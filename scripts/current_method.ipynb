{
 "cells": [
  {
   "cell_type": "markdown",
   "metadata": {},
   "source": [
    "# Current Method Analysis"
   ]
  },
  {
   "cell_type": "markdown",
   "metadata": {},
   "source": [
    "### Import libraries"
   ]
  },
  {
   "cell_type": "code",
   "execution_count": null,
   "metadata": {},
   "outputs": [],
   "source": [
    "import pandas as pd\n",
    "import numpy as np\n",
    "from scipy.stats import ttest_rel, wilcoxon, shapiro\n",
    "from sklearn.model_selection import train_test_split\n",
    "from tqdm import tqdm\n",
    "import re\n",
    "import nltk\n",
    "from fuzzywuzzy import fuzz"
   ]
  },
  {
   "cell_type": "markdown",
   "metadata": {},
   "source": [
    "### Load data"
   ]
  },
  {
   "cell_type": "code",
   "execution_count": null,
   "metadata": {},
   "outputs": [],
   "source": [
    "df = pd.read_csv('final_data.csv')"
   ]
  },
  {
   "cell_type": "markdown",
   "metadata": {},
   "source": [
    "## Accuracy Current Method"
   ]
  },
  {
   "cell_type": "code",
   "execution_count": null,
   "metadata": {},
   "outputs": [],
   "source": [
    "def calculate_accuracy(df, col1, col2):\n",
    "    # Ensure data is in the correct type and handle any case sensitivity issues\n",
    "    df[col1] = df[col1].astype(str).str.lower()\n",
    "    df[col2] = df[col2].astype(str).str.lower()\n",
    "\n",
    "    correct_predictions = 0\n",
    "    total_predictions = len(df)\n",
    "\n",
    "    for a, b in zip(df[col1], df[col2]):\n",
    "        if fuzz.partial_ratio(a, b) >= 80:  # Adjust the threshold as needed\n",
    "            correct_predictions += 1\n",
    "\n",
    "    accuracy = correct_predictions / total_predictions if total_predictions > 0 else 0\n",
    "    return accuracy"
   ]
  },
  {
   "cell_type": "code",
   "execution_count": null,
   "metadata": {},
   "outputs": [],
   "source": [
    "accuracy = calculate_accuracy(df, 'Organization Name', 'True Organization')\n",
    "print(f\"Accuracy: {accuracy:.2%}\")"
   ]
  },
  {
   "cell_type": "markdown",
   "metadata": {},
   "source": [
    "## Compare document level accuracy of current method with NLP models"
   ]
  },
  {
   "cell_type": "code",
   "execution_count": null,
   "metadata": {},
   "outputs": [],
   "source": [
    "train, test = train_test_split(df, test_size=0.3, random_state=42)"
   ]
  },
  {
   "cell_type": "code",
   "execution_count": null,
   "metadata": {},
   "outputs": [],
   "source": [
    "test['accuracy'] = np.where(test['Organization Name'] == test['True Organization'], 1, 0)\n",
    "current_array = test['accuracy'].to_numpy()\n",
    "spacy_array = np.array([0, 1, 0, 0, 0, 0, 0, 0, 0, 0, 1, 0, 0, 0, 0, 1, 0, 1, 1, 1, 0, 0, 0, 1, 0, 1, 0, 0, 0, 1, 1, 1, 1, 1, 0, 1, 1, 1, 0, 1, 1, 0, 0, 1, 1, 1, 0, 0, 0, 0, 1, 0, 0, 0, 0, 0, 0, 0, 0, 0, 0, 0, 0, 0, 1, 1, 0, 0, 0, 0, 0, 0, 1, 0, 0, 1, 0, 0, 0, 0, 1, 0, 1, 0, 1, 0, 0, 0, 0, 0, 0, 1, 1, 0, 0, 0, 0, 0, 0, 1, 0, 1, 0, 0, 0, 0, 0, 1, 0, 0, 0, 1, 1, 0, 0, 0, 0, 0, 0, 1, 0, 0, 0, 0, 0, 0, 1, 0, 1, 1, 0, 0, 1, 0, 1, 0, 0, 0, 0, 0, 1, 0, 0, 0, 0, 1, 0, 0, 0, 0, 0, 0, 0, 1, 0, 1, 0, 0, 1, 1, 0, 0, 1, 0, 0, 0, 0, 0, 1, 0, 0, 0, 0, 0, 1, 0, 0, 0, 0, 1, 0, 0, 1, 0, 1, 1, 1, 0, 0, 0, 0, 0, 0, 0, 0, 1, 1, 0, 1, 0, 0, 1, 1, 1, 0, 0, 0, 1, 1, 0, 0, 0, 0, 1, 0, 0, 1, 0, 0, 0, 1, 0, 1, 0, 0, 1, 0, 0, 1, 0, 0, 1, 0, 0, 0, 1, 0, 1, 1, 1, 0, 1, 1, 1, 0, 1, 1, 1, 0, 0, 1, 1, 0, 1, 0, 1, 0, 1, 1, 0, 1, 0, 1, 1, 0, 0, 0, 1, 1])\n",
    "gpt_array = np.array([1, 1, 1, 1, 1, 1, 1, 0, 1, 1, 1, 1, 1, 1, 1, 1, 1, 0, 1, 1, 1, 1, 1, 1, 1, 1, 1, 1, 1, 0, 1, 1, 1, 1, 0, 1, 1, 1, 1, 0, 0, 1, 1, 0, 1, 0, 0, 1, 0, 0, 1, 1, 1, 0, 1, 1, 1, 0, 1, 0, 1, 1, 1, 1, 1, 1, 0, 1, 1, 0, 1, 1, 1, 1, 1, 1, 1, 0, 1, 1, 1, 1, 1, 0, 1, 1, 1, 1, 1, 1, 0, 1, 0, 1, 0, 1, 1, 1, 1, 0, 1, 1, 0, 1, 1, 0, 0, 1, 1, 0, 1, 1, 1, 1, 0, 1, 0, 1, 0, 1, 1, 1, 0, 1, 1, 1, 1, 1, 1, 1, 1, 1, 1, 1, 1, 1, 1, 1, 1, 1, 1, 1, 0, 1, 1, 1, 0, 1, 0, 0, 1, 1, 1, 1, 1, 1, 0, 1, 1, 1, 1, 0, 1, 0, 1, 0, 1, 0, 0, 1, 1, 1, 1, 1, 1, 1, 1, 1, 1, 1, 1, 1, 1, 1, 1, 1, 1, 0, 0, 1, 1, 1, 1, 1, 1, 1, 1, 0, 1, 1, 1, 1, 1, 1, 1, 1, 1, 1, 0, 1, 1, 1, 1, 1, 1, 1, 1, 1, 1, 1, 0, 1, 1, 1, 1, 1, 1, 1, 1, 1, 1, 1, 1, 1, 0, 1, 1, 1, 1, 1, 1, 0, 1, 1, 1, 0, 1, 1, 0, 1, 1, 1, 0, 0, 1, 0, 0, 1, 1, 0, 0, 1, 1, 0, 0, 1, 1, 1, 1])\n",
    "robbert_array = np.array([1, 1, 1, 0, 0, 1, 1, 0, 0, 1, 0, 0, 0, 1, 0, 1, 0, 1, 1, 1, 1, 0, 0, 1, 1, 1, 0, 1, 1, 1, 1, 1, 1, 1, 1, 1, 0, 0, 0, 1, 0, 1, 1, 0, 1, 0, 0, 0, 0, 0, 0, 1, 1, 0, 0, 1, 1, 0, 0, 0, 1, 1, 0, 1, 1, 1, 0, 1, 1, 0, 1, 0, 0, 1, 0, 1, 0, 0, 0, 0, 1, 1, 1, 0, 1, 1, 1, 1, 0, 1, 0, 0, 1, 0, 0, 0, 1, 1, 1, 0, 1, 1, 0, 0, 0, 0, 0, 1, 0, 0, 1, 0, 1, 0, 0, 1, 0, 1, 0, 1, 1, 0, 1, 1, 1, 1, 1, 1, 1, 1, 1, 1, 1, 1, 1, 0, 1, 0, 1, 0, 1, 0, 0, 0, 0, 1, 0, 0, 1, 0, 1, 0, 0, 1, 1, 1, 0, 1, 1, 1, 1, 0, 1, 0, 0, 1, 1, 0, 0, 1, 1, 1, 0, 0, 1, 0, 1, 0, 1, 1, 1, 1, 1, 0, 0, 1, 0, 0, 1, 0, 0, 1, 1, 1, 0, 0, 1, 0, 0, 1, 1, 1, 1, 1, 1, 1, 0, 1, 0, 1, 1, 1, 0, 1, 0, 1, 0, 1, 0, 1, 1, 0, 1, 1, 0, 0, 1, 1, 1, 1, 0, 1, 0, 1, 0, 0, 0, 0, 1, 0, 1, 0, 1, 1, 1, 1, 0, 1, 0, 1, 1, 1, 0, 0, 0, 0, 0, 0, 1, 0, 0, 0, 1, 0, 0, 0, 0, 0, 0])\n",
    "llama_array = np.array([])"
   ]
  },
  {
   "cell_type": "markdown",
   "metadata": {},
   "source": [
    "### Paired t-tests to test significance"
   ]
  },
  {
   "cell_type": "code",
   "execution_count": null,
   "metadata": {},
   "outputs": [],
   "source": [
    "def check_normality_and_test(differences):\n",
    "    # Normality test\n",
    "    stat, p_value = shapiro(differences)\n",
    "    print(f\"Shapiro-Wilk test p-value: {p_value:.3f}\")\n",
    "    if p_value > 0.05:\n",
    "        print(\"Differences appear to be normally distributed, performing t-test...\")\n",
    "        t_stat, p_value = ttest_rel(differences)\n",
    "    else:\n",
    "        print(\"Differences do not appear to be normally distributed, performing Wilcoxon signed-rank test...\")\n",
    "        t_stat, p_value = wilcoxon(differences)\n",
    "    return t_stat, p_value"
   ]
  },
  {
   "cell_type": "code",
   "execution_count": null,
   "metadata": {},
   "outputs": [],
   "source": [
    "# calculate differences between current and each NLP model\n",
    "diff_spacy = current_array - spacy_array\n",
    "diff_gpt = current_array - gpt_array\n",
    "diff_robbert = current_array - robbert_array\n",
    "# diff_llama = current_array - llama_array\n",
    "\n",
    "# check normality and perform tests\n",
    "print(\"Comparing Current vs SpaCy:\")\n",
    "t_stat, p_value = check_normality_and_test(diff_spacy)\n",
    "print(f\"T-statistic: {t_stat}, P-value: {p_value}\\n\")\n",
    "\n",
    "print(\"Comparing Current vs GPT:\")\n",
    "t_stat, p_value = check_normality_and_test(diff_gpt)\n",
    "print(f\"T-statistic: {t_stat}, P-value: {p_value}\\n\")\n",
    "\n",
    "print(\"Comparing Current vs RobBERT:\")\n",
    "t_stat, p_value = check_normality_and_test(diff_robbert)\n",
    "print(f\"T-statistic: {t_stat}, P-value: {p_value}\\n\")\n",
    "\n",
    "# print(\"Comparing Current vs Llama:\")\n",
    "# t_stat, p_value = check_normality_and_test(diff_llama)\n",
    "# print(f\"T-statistic: {t_stat}, P-value: {p_value}\\n\")"
   ]
  },
  {
   "cell_type": "markdown",
   "metadata": {},
   "source": [
    "## Get actuals\n",
    "Documents where the organization name is mentioned (1) or not (0) for precision and recall"
   ]
  },
  {
   "cell_type": "code",
   "execution_count": null,
   "metadata": {},
   "outputs": [
    {
     "name": "stderr",
     "output_type": "stream",
     "text": [
      "Creating training data:   0%|          | 0/269 [00:00<?, ?it/s]"
     ]
    },
    {
     "name": "stderr",
     "output_type": "stream",
     "text": [
      "Creating training data: 100%|██████████| 269/269 [00:00<00:00, 3936.36it/s]\n"
     ]
    }
   ],
   "source": [
    "def get_actuals(df):\n",
    "    labeled_data = []\n",
    "\n",
    "    for index, row in tqdm(df.iterrows(), total=len(df), desc=\"Creating training data\"):\n",
    "        text = row['Cleaned Text']\n",
    "        org_name = row['True Organization']\n",
    "        \n",
    "        if pd.isnull(org_name):\n",
    "            continue\n",
    "        \n",
    "        # Break down the organization name into words and escape special characters\n",
    "        org_words = org_name.split()\n",
    "        escaped_org_words = [re.escape(word) for word in org_words]\n",
    "        \n",
    "        # Pattern to find any of the organization name words\n",
    "        pattern = rf\"\\b({'|'.join(escaped_org_words)})\\b\"\n",
    "        \n",
    "        entities = []\n",
    "        \n",
    "        # Find all matches in the text\n",
    "        for match in re.finditer(pattern, text):\n",
    "            start_index = match.start()\n",
    "            end_index = match.end()\n",
    "            \n",
    "            # Add the entity to the list\n",
    "            entities.append((start_index, end_index, 'ORG'))\n",
    "        \n",
    "        if len(entities) > 0:\n",
    "            has_entity = 1\n",
    "        else:\n",
    "            has_entity = 0\n",
    "        labeled_data.append((text, has_entity))\n",
    "    return labeled_data"
   ]
  },
  {
   "cell_type": "code",
   "execution_count": null,
   "metadata": {},
   "outputs": [
    {
     "name": "stdout",
     "output_type": "stream",
     "text": [
      "[1, 1, 1, 1, 1, 1, 1, 1, 1, 1, 1, 1, 1, 1, 1, 1, 1, 1, 1, 1, 1, 1, 1, 1, 1, 1, 1, 1, 1, 1, 1, 1, 1, 1, 1, 1, 1, 1, 1, 1, 0, 1, 1, 1, 1, 1, 0, 1, 1, 1, 1, 1, 1, 1, 1, 1, 1, 0, 1, 1, 1, 1, 1, 1, 1, 1, 1, 1, 1, 1, 1, 1, 1, 1, 1, 1, 1, 0, 1, 1, 1, 1, 1, 1, 1, 1, 1, 1, 0, 1, 1, 1, 1, 1, 1, 1, 1, 1, 1, 1, 1, 1, 1, 1, 1, 1, 1, 1, 1, 1, 1, 1, 1, 1, 1, 1, 1, 1, 1, 1, 1, 1, 1, 1, 1, 1, 1, 1, 1, 1, 1, 1, 1, 1, 1, 1, 1, 1, 1, 1, 1, 1, 1, 1, 1, 1, 1, 1, 1, 0, 1, 1, 1, 1, 1, 1, 1, 1, 1, 1, 1, 1, 1, 1, 1, 1, 1, 1, 1, 1, 1, 1, 1, 1, 1, 1, 1, 1, 1, 1, 1, 1, 1, 1, 1, 1, 1, 1, 1, 0, 0, 1, 1, 1, 1, 1, 1, 1, 1, 1, 1, 1, 1, 1, 1, 1, 1, 1, 1, 1, 1, 1, 1, 1, 1, 1, 1, 1, 1, 1, 1, 1, 1, 1, 1, 1, 1, 1, 1, 1, 1, 1, 1, 1, 1, 1, 1, 1, 1, 1, 1, 1, 1, 1, 1, 1, 1, 1, 1, 1, 1, 1, 1, 1, 1, 1, 1, 1, 1, 1, 1, 1, 1, 1, 1, 1, 1, 1, 1]\n",
      "269 269 269 269\n"
     ]
    }
   ],
   "source": [
    "actuals_test = get_actuals(test)\n",
    "actuals = [1 if entry[1] else 0 for entry in actuals_test]"
   ]
  },
  {
   "cell_type": "markdown",
   "metadata": {},
   "source": [
    "## Plotting results"
   ]
  },
  {
   "cell_type": "code",
   "execution_count": 3,
   "metadata": {},
   "outputs": [
    {
     "data": {
      "image/png": "[encoded data removed]",
      "text/plain": [
       "<Figure size 640x480 with 1 Axes>"
      ]
     },
     "metadata": {},
     "output_type": "display_data"
    }
   ],
   "source": [
    "import matplotlib.pyplot as plt\n",
    "import numpy as np\n",
    "import seaborn as sns\n",
    "\n",
    "# Setting seaborn style\n",
    "sns.set(style=\"whitegrid\")\n",
    "\n",
    "# Model names\n",
    "models = ['SpaCy', 'RobBERT', 'GPT-3.5', 'Llama']\n",
    "\n",
    "# Accuracy before fine-tuning\n",
    "pretrained_accuracy = [7.43, 2.60, 88.85, 54.65]\n",
    "\n",
    "# Accuracy after fine-tuning (None for Llama as it is only pretrained)\n",
    "fine_tuned_accuracy = [46.10, 49.81, 89.59, None] \n",
    "\n",
    "x = np.arange(len(models))  # the label locations\n",
    "width = 0.35  # the width of the bars\n",
    "\n",
    "fig, ax = plt.subplots()\n",
    "\n",
    "# Using seaborn colors\n",
    "colors = sns.color_palette(\"pastel\")\n",
    "\n",
    "rects1 = ax.bar(x - width/2, pretrained_accuracy, width, label='Pretrained', color=colors[0])\n",
    "\n",
    "# Fine-tuned bars excluding Llama (handled by checking if accuracy is None)\n",
    "rects2 = ax.bar(x[:-1] + width/2, fine_tuned_accuracy[:-1], width, label='Fine-tuned', color=colors[1])\n",
    "\n",
    "# Add some text for labels, title, and custom x-axis tick labels, etc.\n",
    "ax.set_xlabel('Models')\n",
    "ax.set_ylabel('Accuracy (%)')\n",
    "ax.set_title('Comparison of NLP Model Accuracies Before and After Fine-tuning')\n",
    "ax.set_xticks(x)\n",
    "ax.set_xticklabels(models)\n",
    "ax.legend()\n",
    "\n",
    "# Line for current method's accuracy\n",
    "current_accuracy = 37.83\n",
    "ax.axhline(y=current_accuracy, color='r', linestyle='--', linewidth=2, label='Current Method Accuracy')\n",
    "ax.legend()\n",
    "\n",
    "# Attach a text label inside each bar, displaying its height.\n",
    "def autolabel(rects):\n",
    "    for rect in rects:\n",
    "        height = rect.get_height()\n",
    "        if height is not None:  # Only label bars with a non-None height\n",
    "            ax.annotate(f'{height:.2f}',\n",
    "                        xy=(rect.get_x() + rect.get_width() / 2, height),\n",
    "                        xytext=(0, 3),  # 3 points vertical offset\n",
    "                        textcoords=\"offset points\",\n",
    "                        ha='center', va='bottom')\n",
    "\n",
    "autolabel(rects1)\n",
    "autolabel(rects2)\n",
    "\n",
    "fig.tight_layout()\n",
    "\n",
    "plt.show()\n"
   ]
  },
  {
   "cell_type": "code",
   "execution_count": null,
   "metadata": {},
   "outputs": [],
   "source": []
  }
 ],
 "metadata": {
  "kernelspec": {
   "display_name": "Python 3",
   "language": "python",
   "name": "python3"
  },
  "language_info": {
   "codemirror_mode": {
    "name": "ipython",
    "version": 3
   },
   "file_extension": ".py",
   "mimetype": "text/x-python",
   "name": "python",
   "nbconvert_exporter": "python",
   "pygments_lexer": "ipython3",
   "version": "3.11.9"
  }
 },
 "nbformat": 4,
 "nbformat_minor": 2
}
