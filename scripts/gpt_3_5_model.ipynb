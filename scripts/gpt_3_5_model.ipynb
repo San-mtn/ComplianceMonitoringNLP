{
 "cells": [
  {
   "cell_type": "markdown",
   "metadata": {},
   "source": [
    "# GPT-3.5 Model"
   ]
  },
  {
   "cell_type": "markdown",
   "metadata": {},
   "source": [
    "### Importing libraries"
   ]
  },
  {
   "cell_type": "code",
   "execution_count": null,
   "metadata": {},
   "outputs": [],
   "source": [
    "import pandas as pd\n",
    "import ast\n",
    "import re\n",
    "import random\n",
    "import json\n",
    "import csv\n",
    "\n",
    "from openai import OpenAI\n",
    "from tqdm import tqdm\n",
    "from sklearn.model_selection import train_test_split\n",
    "\n",
    "import nltk\n",
    "from nltk.tokenize import word_tokenize\n",
    "\n",
    "from fuzzywuzzy import fuzz\n"
   ]
  },
  {
   "cell_type": "markdown",
   "metadata": {},
   "source": [
    "### Load and split data"
   ]
  },
  {
   "cell_type": "code",
   "execution_count": null,
   "metadata": {},
   "outputs": [],
   "source": [
    "df = pd.read_csv('final_data.csv')"
   ]
  },
  {
   "cell_type": "code",
   "execution_count": null,
   "metadata": {},
   "outputs": [],
   "source": [
    "train, test = train_test_split(df, test_size=0.3, random_state=42)\n",
    "\n",
    "print(\"Train set size:\", len(train))\n",
    "print(\"Test set size:\", len(test))"
   ]
  },
  {
   "cell_type": "markdown",
   "metadata": {},
   "source": [
    "### Convert to GPT format"
   ]
  },
  {
   "cell_type": "code",
   "execution_count": null,
   "metadata": {},
   "outputs": [],
   "source": [
    "def get_labeled_format(df):\n",
    "    spacy_data = []\n",
    "\n",
    "    for index, row in tqdm(df.iterrows(), total=len(df), desc=\"Creating training data\"):\n",
    "        text = row['Cleaned Text']\n",
    "        org_name = row['True Organization']\n",
    "        \n",
    "        # escape special characters in the organization name\n",
    "        escaped_org_name = re.escape(org_name)\n",
    "        \n",
    "        # pattern to find the organization name\n",
    "        pattern = rf\"\\b{escaped_org_name}\\b\"\n",
    "        \n",
    "        entities = []\n",
    "        \n",
    "        # find all matches \n",
    "        for match in re.finditer(pattern, text):\n",
    "            start_index = match.start()\n",
    "            end_index = match.end()\n",
    "            \n",
    "            # add the entity to the list\n",
    "            entities.append((start_index, end_index, 'ORG'))\n",
    "        \n",
    "        spacy_data.append([text, {'entities': entities}])\n",
    "    return spacy_data\n"
   ]
  },
  {
   "cell_type": "code",
   "execution_count": null,
   "metadata": {},
   "outputs": [],
   "source": [
    "train_data_labeled = get_labeled_format(train)\n",
    "test_data_labeled = get_labeled_format(test)\n",
    "train_data_labeled = [entry for entry in train_data_labeled if len(entry[1]['entities']) > 0]"
   ]
  },
  {
   "cell_type": "code",
   "execution_count": null,
   "metadata": {},
   "outputs": [],
   "source": [
    "def get_gpt_format(data):\n",
    "    formatted_data = []\n",
    "\n",
    "    for data in data:\n",
    "        text = data[0]\n",
    "        entities = data[1]['entities']\n",
    "        for entity in entities:\n",
    "            start_index, end_index, entity_type = entity\n",
    "            org_name = text[start_index:end_index]\n",
    "        content = f\"JAARVERSLAG: {text}\" # English: f\"ANNUAL REPORT: {text}\"\n",
    "        message = {\n",
    "            \"messages\": [ # English: From the following ANNUAL REPORT, provide the organization name. Answer with only the organization name in lowercase.\n",
    "                {\"role\": \"system\", \"content\": \"Geef van het volgende JAARVERSLAG de volledige naam van de organisatie, inclusief woorden zoals 'stichting' en 'gemeente'. Als er in de tekst een uitgeschreven versie van de organisatienaam staat, geef dan die in plaats van de afkorting. Antwoord met alleen de volledige organisatienaam in kleine letters.\"},\n",
    "                {\"role\": \"user\", \"content\": content},\n",
    "                {\"role\": \"assistant\", \"content\": org_name}\n",
    "            ]\n",
    "        }\n",
    "        formatted_data.append(message)\n",
    "\n",
    "    return formatted_data"
   ]
  },
  {
   "cell_type": "code",
   "execution_count": null,
   "metadata": {},
   "outputs": [],
   "source": [
    "train_data = get_gpt_format(train_data_labeled)\n",
    "test_final = get_gpt_format(test_data_labeled)\n",
    "\n",
    "train_data[:10]"
   ]
  },
  {
   "cell_type": "markdown",
   "metadata": {},
   "source": [
    "### Connect OpenAI"
   ]
  },
  {
   "cell_type": "code",
   "execution_count": null,
   "metadata": {},
   "outputs": [],
   "source": [
    "client = OpenAI(\n",
    "  api_key= 'YOURAPIKEY',\n",
    ")"
   ]
  },
  {
   "cell_type": "markdown",
   "metadata": {},
   "source": [
    "### Function to create output"
   ]
  },
  {
   "cell_type": "code",
   "execution_count": null,
   "metadata": {},
   "outputs": [],
   "source": [
    "def create_output(test_data, finetuned_id):\n",
    "    output = []\n",
    "    i = 0\n",
    "\n",
    "    for item in tqdm(test_data, desc=\"Generating output\"):\n",
    "        user_message = next(msg for msg in item['messages'] if msg['role'] == 'user')\n",
    "        content = f\"JAARVERSLAG: {user_message['content']}\" # English: f\"ANNUAL REPORT: {user_message['content']}\"\n",
    "        i += 1\n",
    "\n",
    "        # print(f\"Processing item {i}\")\n",
    "        # print(f\"Content: {content}\\n\")\n",
    "        \n",
    "        try:\n",
    "            # generate completion using the fine-tuned model\n",
    "            completion = client.chat.completions.create(\n",
    "                model=finetuned_id,\n",
    "                messages=[ # English: From the following ANNUAL REPORT, provide the organization name. Answer with only the organization name in lowercase.\n",
    "                    {\"role\": \"system\", \"content\": \"Geef van het volgende JAARVERSLAG de volledige naam van de organisatie, inclusief woorden zoals 'stichting' en 'gemeente'. Als er in de tekst een uitgeschreven versie van de organisatienaam staat, geef dan die in plaats van de afkorting. Antwoord met alleen de volledige organisatienaam in kleine letters.\"},\n",
    "                    {\"role\": \"user\", \"content\": content}\n",
    "                ]\n",
    "            )\n",
    "            \n",
    "            # extract the predicted organization name from the completion\n",
    "            predicted_org = completion.choices[0].message.content.lower()\n",
    "            output.append((user_message[\"content\"], predicted_org))\n",
    "        except Exception as e:\n",
    "            print(f\"Error processing item {i}: {e}\")\n",
    "            output.append((user_message[\"content\"], 'No prediction'))\n",
    "            continue\n",
    "    \n",
    "    return output\n"
   ]
  },
  {
   "cell_type": "markdown",
   "metadata": {},
   "source": [
    "## Base Model"
   ]
  },
  {
   "cell_type": "markdown",
   "metadata": {},
   "source": [
    "### Predictions"
   ]
  },
  {
   "cell_type": "code",
   "execution_count": null,
   "metadata": {},
   "outputs": [],
   "source": [
    "test_output = create_output(test_final, \"gpt-3.5-turbo\")"
   ]
  },
  {
   "cell_type": "markdown",
   "metadata": {},
   "source": [
    "### Evaluation"
   ]
  },
  {
   "cell_type": "code",
   "execution_count": null,
   "metadata": {},
   "outputs": [],
   "source": [
    "def accuracy_base(test, test_output):\n",
    "    true_org_dict = test.set_index('Cleaned Text')['True Organization'].to_dict()\n",
    "\n",
    "    correct_predictions = 0\n",
    "    total_predictions = len(test_output)\n",
    "\n",
    "    # iterate over test_output and check if the text and organization name match the dataframe\n",
    "    for text, organization_name in test_output:\n",
    "        # check if the text is in the dataframe\n",
    "        if text[13:] in true_org_dict:\n",
    "            true_organization_name = str(true_org_dict[text[13:]])\n",
    "            print(f'True: {true_organization_name}, Pred: {organization_name}')\n",
    "            # check if the organization name partially matches the true organization\n",
    "            if true_organization_name.lower() == organization_name.lower():\n",
    "                correct_predictions += 1\n",
    "            elif true_organization_name.lower() in organization_name.lower():\n",
    "                correct_predictions += 1\n",
    "            elif organization_name.lower() in true_organization_name.lower():\n",
    "                correct_predictions += 1\n",
    "\n",
    "    accuracy = correct_predictions / total_predictions\n",
    "\n",
    "    return f\"Accuracy: {accuracy * 100:.2f}%\""
   ]
  },
  {
   "cell_type": "code",
   "execution_count": null,
   "metadata": {},
   "outputs": [],
   "source": [
    "def fuzzy_accuracy(test, test_output):\n",
    "    true_org_dict = test.set_index('Cleaned Text')['True Organization'].to_dict()\n",
    "\n",
    "    correct_predictions = 0\n",
    "    total_predictions = len(test_output)\n",
    "\n",
    "    # iterate over test_output and check if the text and organization name match the dataframe\n",
    "    for text, organization_name in test_output:\n",
    "        # check if the text is in the dataframe\n",
    "        if text[13:] in true_org_dict:\n",
    "            true_organization_name = str(true_org_dict[text[13:]])\n",
    "            print(f'True: {true_organization_name}, Pred: {organization_name}')\n",
    "            \n",
    "            # normalize to lower case and strip spaces\n",
    "            true_organization_name = true_organization_name.lower().strip()\n",
    "            organization_name = organization_name.lower().strip()\n",
    "            \n",
    "            # fuzzy matching score\n",
    "            match_score = fuzz.partial_ratio(organization_name, true_organization_name)\n",
    "            \n",
    "            # consider prediction correct if the similarity score meets or exceeds the threshold\n",
    "            if match_score >= 80:\n",
    "                correct_predictions += 1\n",
    "\n",
    "    accuracy = correct_predictions / total_predictions if total_predictions > 0 else 0\n",
    "    return f\"Accuracy: {accuracy * 100:.2f}%\""
   ]
  },
  {
   "cell_type": "code",
   "execution_count": null,
   "metadata": {},
   "outputs": [],
   "source": [
    "accuracy_base(test, test_output)\n",
    "fuzzy_accuracy(test, test_output)"
   ]
  },
  {
   "cell_type": "markdown",
   "metadata": {},
   "source": [
    "#### Precision & recall"
   ]
  },
  {
   "cell_type": "code",
   "execution_count": null,
   "metadata": {},
   "outputs": [
    {
     "name": "stdout",
     "output_type": "stream",
     "text": [
      "Predictions: [1, 1, 1, 1, 1, 1, 1, 1, 1, 1, 1, 1, 1, 1, 1, 1, 1, 1, 1, 1, 1, 1, 1, 1, 1, 1, 1, 1, 1, 1, 1, 1, 1, 1, 1, 1, 1, 1, 1, 1, 1, 1, 1, 1, 1, 1, 1, 1, 1, 1, 1, 1, 1, 1, 1, 1, 1, 1, 1, 1, 1, 1, 1, 1, 1, 1, 1, 1, 1, 1, 1, 1, 1, 1, 1, 1, 1, 1, 1, 1, 1, 1, 1, 1, 1, 1, 1, 1, 1, 1, 1, 1, 1, 1, 1, 1, 1, 1, 1, 1, 1, 1, 1, 1, 1, 1, 1, 1, 1, 1, 1, 1, 1, 1, 1, 1, 1, 1, 1, 1, 1, 1, 1, 1, 1, 1, 1, 1, 1, 1, 1, 1, 1, 1, 1, 1, 1, 1, 1, 1, 1, 1, 1, 1, 1, 1, 1, 1, 1, 1, 1, 1, 1, 1, 1, 1, 1, 1, 1, 1, 1, 1, 1, 1, 1, 1, 1, 1, 1, 1, 1, 1, 1, 1, 1, 1, 1, 1, 1, 1, 1, 1, 1, 1, 1, 1, 1, 1, 1, 1, 1, 1, 1, 1, 1, 1, 1, 1, 1, 1, 1, 1, 1, 1, 1, 1, 1, 1, 1, 1, 1, 1, 1, 1, 1, 1, 1, 1, 1, 1, 1, 1, 1, 1, 1, 1, 1, 1, 1, 1, 1, 1, 1, 1, 1, 1, 1, 1, 1, 1, 1, 1, 1, 1, 1, 1, 1, 1, 1, 1, 1, 1, 1, 1, 1, 1, 1, 1, 1, 1, 1, 1, 1, 1, 1, 1, 1, 1, 1]\n"
     ]
    }
   ],
   "source": [
    "prediction_list = []\n",
    "total_predictions = len(test_output)\n",
    "\n",
    "# iterate over test_output\n",
    "for text, organization_name in test_output:\n",
    "    # check if any organization name is predicted\n",
    "    if organization_name.strip(): \n",
    "        prediction_list.append(1)\n",
    "    else:\n",
    "        prediction_list.append(0)  \n",
    "\n",
    "print(\"Predictions:\", prediction_list)\n"
   ]
  },
  {
   "cell_type": "code",
   "execution_count": null,
   "metadata": {},
   "outputs": [],
   "source": [
    "# list with 1 if organization is present in the text, 0 otherwise\n",
    "# see calculation of actuals in current_method notebook\n",
    "actuals = [1, 1, 1, 1, 1, 1, 1, 1, 1, 1, 1, 1, 1, 1, 1, 1, 1, 1, 1, 1, 1, 1, 1, 1, 1, 1, 1, 1, 1, 1, 1, 1, 1, 1, 1, 1, 1, 1, 1, 1, 0, 1, 1, 1, 1, 1, 0, 1, 1, 1, 1, 1, 1, 1, 1, 1, 1, 0, 1, 1, 1, 1, 1, 1, 1, 1, 1, 1, 1, 1, 1, 1, 1, 1, 1, 1, 1, 0, 1, 1, 1, 1, 1, 1, 1, 1, 1, 1, 0, 1, 1, 1, 1, 1, 1, 1, 1, 1, 1, 1, 1, 1, 1, 1, 1, 1, 1, 1, 1, 1, 1, 1, 1, 1, 1, 1, 1, 1, 1, 1, 1, 1, 1, 1, 1, 1, 1, 1, 1, 1, 1, 1, 1, 1, 1, 1, 1, 1, 1, 1, 1, 1, 1, 1, 1, 1, 1, 1, 1, 0, 1, 1, 1, 1, 1, 1, 1, 1, 1, 1, 1, 1, 1, 1, 1, 1, 1, 1, 1, 1, 1, 1, 1, 1, 1, 1, 1, 1, 1, 1, 1, 1, 1, 1, 1, 1, 1, 1, 1, 0, 0, 1, 1, 1, 1, 1, 1, 1, 1, 1, 1, 1, 1, 1, 1, 1, 1, 1, 1, 1, 1, 1, 1, 1, 1, 1, 1, 1, 1, 1, 1, 1, 1, 1, 1, 1, 1, 1, 1, 1, 1, 1, 1, 1, 1, 1, 1, 1, 1, 1, 1, 1, 1, 1, 1, 1, 1, 1, 1, 1, 1, 1, 1, 1, 1, 1, 1, 1, 1, 1, 1, 1, 1, 1, 1, 1, 1, 1, 1]"
   ]
  },
  {
   "cell_type": "code",
   "execution_count": null,
   "metadata": {},
   "outputs": [],
   "source": [
    "def calculate_precision_recall(predictions, actuals):\n",
    "    # Calculating TP, FP, and FN\n",
    "    TP = sum(1 for actual, pred in zip(actuals, predictions) if actual == 1 and pred == 1)\n",
    "    FP = sum(1 for actual, pred in zip(actuals, predictions) if actual == 0 and pred == 1)\n",
    "    FN = sum(1 for actual, pred in zip(actuals, predictions) if actual == 1 and pred == 0)\n",
    "    \n",
    "    precision = TP / (TP + FP) if (TP + FP) > 0 else 0\n",
    "    recall = TP / (TP + FN) if (TP + FN) > 0 else 0\n",
    "\n",
    "    return precision, recall"
   ]
  },
  {
   "cell_type": "code",
   "execution_count": null,
   "metadata": {},
   "outputs": [],
   "source": [
    "precision_gpt, recall_gpt = calculate_precision_recall(prediction_list, actuals)\n",
    "\n",
    "print(f\"Precision GPT pretr: {precision_gpt:.2f}\")\n",
    "print(f\"Recall GPT pretr: {recall_gpt:.2f}\")"
   ]
  },
  {
   "cell_type": "markdown",
   "metadata": {},
   "source": [
    "#### Document-level accuracy\n",
    "For comparison between models with paired t-tests. See usage in current_method notebook."
   ]
  },
  {
   "cell_type": "code",
   "execution_count": null,
   "metadata": {},
   "outputs": [
    {
     "name": "stdout",
     "output_type": "stream",
     "text": [
      "[1, 1, 1, 1, 1, 1, 1, 0, 1, 1, 1, 1, 1, 1, 1, 1, 1, 1, 1, 1, 1, 1, 1, 1, 1, 1, 1, 1, 1, 0, 1, 1, 1, 1, 0, 1, 1, 0, 1, 0, 0, 1, 1, 0, 1, 0, 0, 1, 0, 0, 1, 1, 1, 0, 1, 1, 1, 0, 1, 0, 1, 1, 1, 1, 1, 1, 0, 1, 1, 0, 1, 1, 1, 1, 1, 1, 1, 0, 1, 1, 1, 1, 1, 0, 1, 1, 1, 1, 1, 1, 0, 1, 1, 1, 0, 0, 1, 1, 1, 0, 1, 1, 0, 1, 1, 0, 0, 1, 1, 0, 1, 1, 1, 1, 0, 1, 0, 1, 0, 1, 1, 1, 0, 1, 1, 1, 1, 1, 1, 1, 1, 1, 1, 1, 1, 1, 1, 1, 1, 1, 1, 1, 0, 1, 0, 1, 0, 1, 0, 0, 1, 1, 1, 1, 1, 1, 0, 0, 1, 0, 0, 1, 1, 1, 1, 0, 1, 0, 0, 1, 1, 1, 1, 1, 1, 1, 1, 1, 1, 1, 1, 1, 1, 1, 1, 1, 1, 0, 0, 1, 1, 1, 1, 1, 1, 1, 1, 0, 1, 1, 1, 1, 1, 1, 1, 1, 1, 1, 0, 1, 1, 1, 1, 1, 1, 1, 1, 1, 1, 1, 0, 1, 1, 1, 1, 1, 1, 1, 1, 1, 1, 1, 0, 1, 0, 1, 1, 1, 1, 1, 1, 1, 1, 1, 1, 0, 1, 1, 0, 1, 1, 1, 0, 0, 1, 0, 0, 1, 1, 0, 0, 1, 1, 0, 0, 1, 1, 1, 1]\n"
     ]
    }
   ],
   "source": [
    "true_org_dict = test.set_index('Cleaned Text')['True Organization'].to_dict()\n",
    "\n",
    "doc_acc = []\n",
    "total_predictions = len(test_output)\n",
    "\n",
    "# iterate over test_output and check if the text and organization name match the dataframe\n",
    "for text, organization_name in test_output:\n",
    "    # check if the text is in the dataframe\n",
    "    if text[13:] in true_org_dict:\n",
    "        true_organization_name = str(true_org_dict[text[13:]])\n",
    "        # check if the organization name matches the true organization\n",
    "        if true_organization_name.lower() == organization_name.lower():\n",
    "            doc_acc.append(1)\n",
    "        elif true_organization_name.lower() in organization_name.lower():\n",
    "            doc_acc.append(1)\n",
    "        elif organization_name.lower() in true_organization_name.lower():\n",
    "            doc_acc.append(1)\n",
    "        else:\n",
    "            doc_acc.append(0)\n",
    "\n",
    "print(doc_acc)"
   ]
  },
  {
   "cell_type": "markdown",
   "metadata": {},
   "source": [
    "## Finetuned Model"
   ]
  },
  {
   "cell_type": "markdown",
   "metadata": {},
   "source": [
    "#### Create randomly selected train for finetuning GPT"
   ]
  },
  {
   "cell_type": "code",
   "execution_count": null,
   "metadata": {},
   "outputs": [],
   "source": [
    "def create_random_training_input(n, input_file):\n",
    "    return random.sample(input_file, n)\n",
    "\n",
    "train_final = create_random_training_input(100, train_data)"
   ]
  },
  {
   "cell_type": "markdown",
   "metadata": {},
   "source": [
    "#### Write file into path"
   ]
  },
  {
   "cell_type": "code",
   "execution_count": null,
   "metadata": {},
   "outputs": [
    {
     "name": "stdout",
     "output_type": "stream",
     "text": [
      "Data written to train_final.json\n"
     ]
    }
   ],
   "source": [
    "file_path = 'train_final.json'\n",
    "with open(file_path, 'w') as file:\n",
    "    for entry in train_final:\n",
    "        json.dump(entry, file)\n",
    "        file.write('\\n')\n",
    "\n",
    "print(f\"Data written to {file_path}\")"
   ]
  },
  {
   "cell_type": "markdown",
   "metadata": {},
   "source": [
    "### Initialize fine tuning job"
   ]
  },
  {
   "cell_type": "code",
   "execution_count": null,
   "metadata": {},
   "outputs": [],
   "source": [
    "with open(\"train_final.json\", \"rb\") as file:\n",
    "    response = client.files.create(\n",
    "        file=file,\n",
    "        purpose=\"fine-tune\"\n",
    "    )"
   ]
  },
  {
   "cell_type": "code",
   "execution_count": null,
   "metadata": {},
   "outputs": [],
   "source": [
    "training_file_id = response.id"
   ]
  },
  {
   "cell_type": "code",
   "execution_count": null,
   "metadata": {},
   "outputs": [
    {
     "data": {
      "text/plain": [
       "FineTuningJob(id='ftjob-5ZUoTkUVXdYQ0xbDGmwtmIoT', created_at=1716382160, error=Error(code=None, message=None, param=None), fine_tuned_model=None, finished_at=None, hyperparameters=Hyperparameters(n_epochs='auto', batch_size='auto', learning_rate_multiplier='auto'), model='gpt-3.5-turbo-0125', object='fine_tuning.job', organization_id='org-3V94kqhehiKkMJuT1WyKuNQK', result_files=[], status='validating_files', trained_tokens=None, training_file='file-ThJCuuHMne0QWYhYb7rWgLoJ', validation_file=None, user_provided_suffix=None, seed=882879571, estimated_finish=None, integrations=[])"
      ]
     },
     "metadata": {},
     "output_type": "display_data"
    }
   ],
   "source": [
    "client.fine_tuning.jobs.create(\n",
    "    training_file=training_file_id,\n",
    "    model=\"gpt-3.5-turbo\"\n",
    ")"
   ]
  },
  {
   "cell_type": "code",
   "execution_count": null,
   "metadata": {},
   "outputs": [
    {
     "data": {
      "text/plain": [
       "FineTuningJob(id='ftjob-5ZUoTkUVXdYQ0xbDGmwtmIoT', created_at=1716382160, error=Error(code=None, message=None, param=None), fine_tuned_model='ft:gpt-3.5-turbo-0125:personal::9RftY4Sw', finished_at=1716382926, hyperparameters=Hyperparameters(n_epochs=3, batch_size=1, learning_rate_multiplier=2), model='gpt-3.5-turbo-0125', object='fine_tuning.job', organization_id='org-3V94kqhehiKkMJuT1WyKuNQK', result_files=['file-VFt3giJLLumh6608V4CNRkrN'], status='succeeded', trained_tokens=684249, training_file='file-ThJCuuHMne0QWYhYb7rWgLoJ', validation_file=None, user_provided_suffix=None, seed=882879571, estimated_finish=None, integrations=[])"
      ]
     },
     "metadata": {},
     "output_type": "display_data"
    }
   ],
   "source": [
    "# check progress\n",
    "client.fine_tuning.jobs.retrieve(\"ftjob-5ZUoTkUVXdYQ0xbDGmwtmIoT\")"
   ]
  },
  {
   "cell_type": "code",
   "execution_count": null,
   "metadata": {},
   "outputs": [],
   "source": [
    "finetuned_id = \"FINETUNEDID\""
   ]
  },
  {
   "cell_type": "markdown",
   "metadata": {},
   "source": [
    "#### Create output"
   ]
  },
  {
   "cell_type": "code",
   "execution_count": null,
   "metadata": {},
   "outputs": [
    {
     "name": "stderr",
     "output_type": "stream",
     "text": [
      "Generating output:   0%|          | 0/269 [00:00<?, ?it/s]"
     ]
    },
    {
     "name": "stderr",
     "output_type": "stream",
     "text": [
      "Generating output:  56%|█████▌    | 150/269 [01:42<01:08,  1.73it/s]"
     ]
    },
    {
     "name": "stdout",
     "output_type": "stream",
     "text": [
      "Error processing item 150: Error code: 400 - {'error': {'message': \"Sorry! We've encountered an issue with repetitive patterns in your prompt. Please try again with a different prompt.\", 'type': 'invalid_request_error', 'param': 'prompt', 'code': 'invalid_prompt'}}\n"
     ]
    },
    {
     "name": "stderr",
     "output_type": "stream",
     "text": [
      "Generating output: 100%|██████████| 269/269 [03:00<00:00,  1.49it/s]\n"
     ]
    }
   ],
   "source": [
    "test_output = create_output(test_final, finetuned_id)"
   ]
  },
  {
   "cell_type": "code",
   "execution_count": null,
   "metadata": {},
   "outputs": [
    {
     "name": "stdout",
     "output_type": "stream",
     "text": [
      "True: stichting de bibliotheek utrecht, Pred: de bibliotheek utrecht\n",
      "True: de nederlandsche bank, Pred: de nederlandsche bank\n",
      "True: provincie limburg, Pred: provincie limburg\n",
      "True: provincie noord-holland, Pred: provincie noord-holland\n",
      "True: het fonds voor cultuurparticipatie, Pred: fonds voor cultuurparticipatie\n",
      "True: hoogheemraadschap van rijnland, Pred: hoogheemraadschap van rijnland\n",
      "True: kamer van koophandel, Pred: kamer van koophandel\n",
      "True: omgevingsdienst noord-veluwwe, Pred: omgevingsdienst noordenveld westerkwartier\n",
      "True: recreatieschap twiske-waterland, Pred: recreatieschap twiske-waterland\n",
      "True: gemeente diemen, Pred: gemeente diemen\n",
      "True: gemeente doesburg, Pred: gemeente doesburg\n",
      "True: gemeente steenwijkerland en gemeente westerveld, Pred: gemeente steenwijkerland\n",
      "True: stichting concert- en congresgebouw de doelen, Pred: de doelen\n",
      "True: gemeente utrecht, Pred: gemeente utrecht\n",
      "True: provincie flevoland, Pred: provincie flevoland\n",
      "True: gemeente amsterdam, Pred: gemeente amsterdam\n",
      "True: gemeente woensdrecht, Pred: gemeente woensdrecht\n",
      "True: kinderfonds mamas, Pred: kinderfonds mamas\n",
      "True: westfries archief, Pred: westfries archief\n",
      "True: omgevingsdienst de vallei, Pred: omgevingsdienst de vallei\n",
      "True: industrieschap medel, Pred: industrieschap medel\n",
      "True: onderwijsgroep perspecto, Pred: onderwijsgroep perspecto\n",
      "True: gemeente moerdijk, Pred: gemeente moerdijk\n",
      "True: gemeente zeist, Pred: gemeente zeist\n",
      "True: geonovum, Pred: geonovum\n",
      "True: stichting vrienden van het umc utrecht, Pred: stichting vrienden van het umc utrecht\n",
      "True: Centraal Orgaan opvang asielzoeker, Pred: centraal orgaan opvang asielzoekers\n",
      "True: stichting hero kindercentra peuteropvang, Pred: stichting hero kindercentra peuteropvang\n",
      "True: 1stroom, Pred: 1stroom\n",
      "True: nederlandse loodsencorporatie, Pred: nederlands loodswezen\n",
      "True: stichting sint jozef wonen en zorg, Pred: stichting sint jozef wonen en zorg\n",
      "True: 1stroom, Pred: 1stroom\n",
      "True: stichting xtra, Pred: stichting xtra\n",
      "True: gemeente stichtse vecht, Pred: gemeente stichtse vecht\n",
      "True: gemeente oirschot, Pred: gemeente oirschot\n",
      "True: stichting meanderomnium, Pred: stichting meanderomnium\n",
      "True: Brabantse Ontwikkelings Maatschappij, Pred: brabantse ontwikkelings maatschappij\n",
      "True: gemeente nijkerk, Pred: gemeente nijkerk\n",
      "True: Omgevingsdienst Regio Nijmegen, Pred: omgevingsdienst regio nijmegen\n",
      "True: stichting tki watertechnology, Pred: stichting tki watertechnologie\n",
      "True: gemeente boxmeer, Pred: gemeente alphen-chadeyalty\n",
      "True: stichting centrum voor arbeidsverhoudingen overheidspersoneel, Pred: stichting centrum voor arbeidsverhoudingen overheidspersoneel\n",
      "True: provincie fryslân, Pred: provincie fryslân\n",
      "True: woonstichting ’thuis, Pred: woonstichting ’ thuis\n",
      "True: provincie flevoland, Pred: provincie flevoland\n",
      "True: gemeenschappelijke regeling reinigingsdiensten rd4, Pred: reinigingsdiensten rd4 gemeenschappelijke regeling\n",
      "True: belastingsamenwerking west-brabant, Pred: bwb\n",
      "True: veiligheids- en gezondheidsregio gelderland midden, Pred: veiligheids- en gezondheidsregio gelderland midden\n",
      "True: belastingsamenwerking oost brabant, Pred: belasti ngsa menwerking oost-brabant\n",
      "True: de werkcorporatie noordoostpolder b.v., Pred: werkcorporatie noordoostpolder b.v.\n",
      "True: gemeente borne, Pred: gemeente borne\n",
      "True: baanbrekers, Pred: baanbrekers\n",
      "True: politieacademie, Pred: politieacademie\n",
      "True: stichting !woon, Pred: stichting ! woon\n",
      "True: gemeenschappelijke regeling bleizo, Pred: gemeenschappelijke regeling bleizo\n",
      "True: stichting landschapsbeheer gelderland, Pred: stichting landschapsbeheer gelderland\n",
      "True: dcmr milieudienst rijnmond, Pred: dcmr milieudienst rijnmond\n",
      "True: Koningin Wilhelmina Fonds, Pred: kwf kankerbestrijding\n",
      "True: gemeente oude ijsselstreek, Pred: gemeente oude ijsselstreek\n",
      "True: trimbos instituut, Pred: stichting trimbos-instituut\n",
      "True: sociale verzekeringsbank, Pred: sociale verzekeringsbank\n",
      "True: gemeente roosendaal, Pred: gemeente roosendaal\n",
      "True: stichting algemeen maatschappelijk werk midden-limburg, Pred: algemeen maatschappelijk werk midden-limburg\n",
      "True: gemeente hollands kroon, Pred: gemeente hollands kroon\n",
      "True: gemeente nederweert, Pred: gemeente nederweert\n",
      "True: gemeente hoogeveen, Pred: gemeente hoogeveen\n",
      "True: gemeentschappelijke regeling heesch west, Pred: gemeenschappelijke regeling heesch west\n",
      "True: gemeente zeist, Pred: gemeente zeist\n",
      "True: regio foodvalley, Pred: regio foodvalley\n",
      "True: jong leren, stichting voor confessioneel basisonderwijs, Pred: stichting jong leren\n",
      "True: modulaire gemeenschappelijke regeling rijk van nijmegen, Pred: modulaire gemeenschappelijke regeling rijk van nijmegen\n",
      "True: gemeente noardeast-fryslân, Pred: gemeente noardeast -fryslân\n",
      "True: stichting art.1 midden nederland, Pred: art.1 midden nederland\n",
      "True: veiligheidsregio twente, Pred: veiligheidsregio twente\n",
      "True: veiligheidsregio noord- en oost-gelderland, Pred: veiligheidsregio noord - en oost -gelderland\n",
      "True: stichting kenniscentrum cultuureducatie rotterdam, Pred: stichting kenniscentrum cultuureducatie rotterdam\n",
      "True: Waarborgfonds Eigen Woningen, Pred: stichting waarborgfonds eigen woningen\n",
      "True: gemeente groningen, Pred: beemster gemeente\n",
      "True: gemeente leudal, Pred: gemeente leudal\n",
      "True: gemeente waalre, Pred: gemeente waalre\n",
      "True: gemeente zeist, Pred: gemeente zeist\n",
      "True: sabewa zeeland, Pred: sabewa zeeland\n",
      "True: nationale politie, Pred: nationale politie\n",
      "True: stichting de welle, Pred: stichting nederlandse bibliotheek dienst\n",
      "True: gemeente kapelle, Pred: gemeente kapelle\n",
      "True: stichting cultureel erfgoed zeeland, Pred: stichting cultureel erfgoed zeeland\n",
      "True: afeer, Pred: afeer\n",
      "True: ministerie van defensie, Pred: ministerie van defensie\n",
      "True: waterschap rivierenland, Pred: waterschap brabantse delta\n",
      "True: gemeente voerendaal, Pred: gemeente voerendaal\n",
      "True: gemeente hillegom, Pred: gemeenschappelijke regeling hltsamen\n",
      "True: het graafschap college, Pred: graafschap college\n",
      "True: health~holland | topsector life sciences & health, Pred: stichting tki-lsh\n",
      "True: regionaal historisch centrum drents archief, Pred: het drents archief\n",
      "True: gemeente noardeast-fryslân, Pred: gemeente noardeast-fryslân\n",
      "True: gemeenschappelijke regeling cocensus, Pred: cocensus\n",
      "True: mocca, Pred: mocca\n",
      "True: omgevingsdienst veluwe ijssel, Pred: omgevingsdienst veluwe ijssel\n",
      "True: noordelijke rekenkamer, Pred: noordelijke rekenkamer\n",
      "True: jaarrapportage aan tweede kamer, Pred: ministerie van binnenlandse zaken en koninkrijksrelaties\n",
      "True: provincie noord-brabant, Pred: provincie noord-brabant\n",
      "True: stichting r.k. mytylschool roosendaal, Pred: stichting r.k. mytylschool roosendaal\n",
      "True: hoogheemraadschap van schieland en de krimpenerwaard, Pred: hoogheemraadschap van schieland en krimpenerwaard\n",
      "True: werkvoorzieningsschap aanvullende arbeid venlo en omstreken, Pred: gemeenschappelijke regeling werkvoorzieningsschap aanvullende arbeid venlo en omstreken\n",
      "True: wetterskip fryslân, Pred: wetterskip fryslân\n",
      "True: stichting de boei, sociaal werk bunschoten, Pred: stichting de boei\n",
      "True: natuur en milieu, Pred: natuur & milieu\n",
      "True: gemeente urk, Pred: gemeente urk\n",
      "True: havenschap groningen seaports, Pred: groningen seaports\n",
      "True: gemeente opsterland, Pred: de weerdt_advocaten\n",
      "True: vereniging van nederlandse gemeenten, Pred: vereniging van nederlandse gemeenten\n",
      "True: wsd, Pred: wsd\n",
      "True: gemeente wijchen, Pred: gemeente wijchen\n",
      "True: gemeente albrandswaard, Pred: gemeente albrandswaard\n",
      "True: stichting centrom 16 en 22, Pred: stichting centrum 16•22\n",
      "True: werkplein drentsche aa, Pred: werkplein drentsche aa\n",
      "True: gemeenschappelijke regeling werkvoorzieningschap kampen en dronten, Pred: werkvoorzieningschap kampen & dronten\n",
      "True: ict nml, Pred: ict nml\n",
      "True: nederlandse loodsencorporatie, Pred: nederlands loodswezen\n",
      "True: stichting de museumfabriek, Pred: stichting de museumfabriek\n",
      "True: stichting figulus welzijn aalten-dinxperlo, Pred: stichting figulus welzijn aalten-dinxperlo\n",
      "True: gemeente reusel-de mierden, Pred: gemeente reusel-de mierden\n",
      "True: ggd ijsselland, Pred: gemeenschappelijke gezondheidsdienst ijsselland\n",
      "True: omnibuzz, Pred: omnibuzz\n",
      "True: aan-z, Pred: aan-z\n",
      "True: natuur en milieu overijssel, Pred: natuur en milieu overijssel\n",
      "True: stichting musea zutphen, Pred: stichting musea zutphen\n",
      "True: gemeente dronten, Pred: gemeente dronten\n",
      "True: stichting steun goois natuurreservaat, Pred: stichting steun goois natuurreservaat\n",
      "True: welzijn veere, Pred: stichting welzijn veere\n",
      "True: plusteam, Pred: plusteam\n",
      "True: servicebureau jeugdhulp haaglanden, Pred: gemeenschappelijke regeling servicebureau jeugdhulp haaglanden\n",
      "True: stichting welzijn noordwijk, Pred: stichting welzijn noordwijk\n",
      "True: gemeente alblasserdam, Pred: gemeente alblasserdam\n",
      "True: veiligheidsregio ijsselland, Pred: veiligheidsregio ijsselland\n",
      "True: veiligheidsregio gooi en vechtstreek, Pred: veiligheidsregio gooi en vechtstreek\n",
      "True: menso, Pred: menso\n",
      "True: gemeente stadskanaal, Pred: gemeente stadskanaal\n",
      "True: gemeente heusden, Pred: gemeente heusden\n",
      "True: gemeente noardeast-fryslân, Pred: gemeente noardeast -fryslân\n",
      "True: stichting xtra, Pred: stichting xtra\n",
      "True: veiligheidsregio zuid-limburg, Pred: veiligheidsregio zuid-limburg\n",
      "True: ontwikkelingsbedrijf noord-holland-noord, Pred: ontwikkelingsbedrijf noord -holland noord\n",
      "True: Stichting Landelijk Kennisinstituut Cultuureducatie en Amateurkunst, Pred: stichting landelijk kennisinstituut cultuureducatie en amateurkunst\n",
      "True: west-brabants archief (wba), Pred: west-brabants archief\n",
      "True: stichting aanpak financieel economische criminaliteit in nederland, Pred: stichting aanpak financieel economische criminaliteit in nederland\n",
      "True: gemeente overbetuwe, Pred: gemeente zeist\n",
      "True: College voor de toelating van gewasbeschermingsmiddelen en biociden, Pred: college voor de toelating van gewasbeschermingsmiddelen en biociden\n",
      "True: cliëntenbelang amsterdam, Pred: vereniging cliëntenbelang\n",
      "True: stichting openbare bibliotheken noord fryslân, Pred: No prediction\n",
      "True: stichting lira, Pred: stichting lira\n",
      "True: stichting openbaar onderwijs aan de amstel, Pred: openbaar onderwijs aan de amstel\n",
      "True: Regionaal Archief Zuid-Utrecht, Pred: regionaal archief zuid-utrecht\n",
      "True: museum arnhem, Pred: stichting museum arnhem\n",
      "True: ggd regio utrecht, Pred: ggd regio utrecht\n",
      "True: stichting participatie dinkelland, Pred: stichting participatie dinkelland\n",
      "True: Het Stedelijk Mobiliteitsfonds , Pred: gemeente amsterdam\n",
      "True: het flevolands archief, Pred: het flevolands archief\n",
      "True: publieke omroep amsterdam, Pred: publieke omroep amsterdam\n",
      "True: nwb bank, Pred: nwb bank\n",
      "True: isd bollenstreek, Pred: isd bollenstreek\n",
      "True: syntrophos shared service centre, Pred: syntrophos\n",
      "True: gemeente breda, Pred: gemeente breda\n",
      "True: recreatieschap twiske-waterland, Pred: recreatieschap twiske -waterland\n",
      "True: gemeente boekel, Pred: gemeente boekel\n",
      "True: fmf, Pred: federatie milieudefinsje fryslân\n",
      "True: gemeenschappelijke regeling regionale uitvoeringsdienst limburg noord, Pred: gemeenschappelijke regeling regionale uitvoeringsdienst limburg noord\n",
      "True: werkbedrijf eemsdelta, Pred: werkplein fivelingo\n",
      "True: Intergemeentelijke Stichting Openbaar Onderwijs, Pred: intergemeentelijke stichting openbaar basisonderwijs\n",
      "True: recreatieschap marrekrite, Pred: recreatieschap marrekrite\n",
      "True: gemeenschappelijke regeling westrom, Pred: gemeenschappelijke regeling westrom\n",
      "True: gemeente amsterdam, Pred: gemeente amsterdam\n",
      "True: gemeente smallingerland, Pred: gemeente smallingerland\n",
      "True: vuilverbrandingsinstallatie alkmaar en omstreken, alkmaar, Pred: vuilverbrandingsinstallatie alkmaar en omstreken\n",
      "True: nationale politie, Pred: nationale politie\n",
      "True: gemeente smallingerland, Pred: gemeente smallingerland\n",
      "True: vcpo noord-groningen, Pred: vereniging voor christelijk primair onderwijs in noord-groningen\n",
      "True: gemeenschappelijke regeling regionale uitvoeringsdienst zeeland, Pred: regionale uitvoeringsdienst zeeland\n",
      "True: autoriteit persoonsgegevens, Pred: autoriteit persoonsgegevens\n",
      "True: omgevingsdienst brabant noord, Pred: omgevingsdienst brabant noord\n",
      "True: stichting stemra, Pred: stichting stemra\n",
      "True: veiligheidsregio gooi en vechtstreek, Pred: veiligheidsregio gooi en vechtstreek\n",
      "True: stichting heifer nederland, Pred: stichting heifer nederland\n",
      "True: gemeente noardeast-fryslân, Pred: gemeente noardeast -fryslân\n",
      "True: gemeente boekel, Pred: gemeente boekel\n",
      "True: stichting fries natuurhistorisch museum, Pred: stichting fries natuurhistorisch museum\n",
      "True: provincie flevoland, Pred: provincie flevoland\n",
      "True: ministerie van BZK, Pred: ministerie van binnenlandse zaken en koninkrijksrelaties\n",
      "True: enexis netbeheer b.v., Pred: enexis netbeheer b.v.\n",
      "True: waterschap rivierenland, Pred: hoogheemraadschap van schieland en de krimpenerwaard\n",
      "True: gemeente arnhem, Pred: gemeente ameland\n",
      "True: gemeente roosendaal, Pred: gemeente roosendaal\n",
      "True: frans hals museum, Pred: frans hals museum\n",
      "True: regio west-brabant, Pred: regio west-brabant\n",
      "True: gemeente weststellingwerf, Pred: gemeente westerwolde\n",
      "True: stichting contourdetwern, Pred: contourdetwern\n",
      "True: stichting cultura nova, Pred: stichting cultura nova\n",
      "True: stichting westfriese bibliotheken, Pred: openbare bibliotheekvoorziening winsum\n",
      "True: gemeenschappelijke regeling drechtsteden, Pred: gemeenschappelijke regeling drechtsteden\n",
      "True: gemeente aalsmeer, Pred: gemeente aalsmeer\n",
      "True: waterschap brabantse delta, Pred: waterschap brabantse delta\n",
      "True: gemeente roosendaal, Pred: gemeente roosendaal\n",
      "True: free press unlimited, Pred: free press unlimited\n",
      "True: gemeente teylingen, Pred: gemeente teylingen\n",
      "True: provincie limburg, Pred: provincie limburg\n",
      "True: stichting groninger forum, Pred: stichting groninger forum\n",
      "True: gemeente rheden, Pred: gemeente rheden\n",
      "True: regionaal historisch centrum alkmaar, Pred: regionaal historisch centrum alkmaar\n",
      "True: stichting museum ons'lieve heer op solder, Pred: museum ons ’ lieve heer op solder\n",
      "True: museum arnhem, Pred: stichting museum arnhem\n",
      "True: recreatieschap voorne-putten, Pred: recreatieschap voorne-putten\n",
      "True: provincie limburg, Pred: provincie limburg\n",
      "True: gemeente midden-delfland, Pred: gemeente midden-delfland\n",
      "True: stichting xtra, Pred: stichting xtra\n",
      "True: gemeente oldebroek, Pred: gemeente oldebroek\n",
      "True: airport coordination netherlands, Pred: airport coordination netherlands\n",
      "True: stichting jeugdfonds sport & cultuur nederland, Pred: stichting jeugdfonds sport & cultuur\n",
      "True: gemeente harderwijk, Pred: gemeente harderwijk\n",
      "True: stichting amsterdams fonds voor de kunst, Pred: amsterdams fonds voor de kunst\n",
      "True: stichting akros welzijn, Pred: stichting akros welzijn\n",
      "True: werkmaatschappij 8ktd, Pred: werkmaatschappij 8ktd\n",
      "True: Omgevingsdienst Regio Nijmegen, Pred: omgevingsdienst regio nijmegen\n",
      "True: flynth, Pred: flynth holding n.v.\n",
      "True: gemeente voerendaal, Pred: gemeente voerendaal\n",
      "True: stichting u centraal, Pred: stichting u centraal\n",
      "True: welzijn veere, Pred: stichting welzijn veere\n",
      "True: stichting nationaal museum van wereldculturen, Pred: stichting nationaal museum van wereldculturen\n",
      "True: gemeente harderwijk, Pred: gemeente harderwijk\n",
      "True: n.v. rendo , Pred: n.v. rendo holding\n",
      "True: ggd regio utrecht, Pred: ggd regio utrecht\n",
      "True: provincie noord-holland, Pred: provincie noord-holland\n",
      "True: stichting aeres groep, Pred: stichting aeres groep\n",
      "True: wierden en borgen woningstichting, Pred: wierden en borgen\n",
      "True: provincie utrecht, Pred: provincie utrecht\n",
      "True: bedrijfsvoeringsorganisatie h2o; i-dienst, Pred: bedrijfsvoeringsorganisatie h2o\n",
      "True: stichting diakonessenhuis, Pred: stichting diakonessenhuis\n",
      "True: veiligheidsregio gelderland-zuid (vrgz), Pred: veiligheidsregio gelderland -zuid\n",
      "True: Veiligheids- en Gezondheidsregio Gelderland-Midden, Pred: veiligheids- en gezondheidsregio gelderland-midden\n",
      "True: regio de vallei, Pred: regio de vallei\n",
      "True: gemeente noardeast-fryslân, Pred: gemeente noardeast-fryslân\n",
      "True: laborijn, Pred: laborijn\n",
      "True: stichting arbeidsmarkt en opleidingsfonds gemeenten, Pred: a & o fonds gemeenten\n",
      "True: gemeente hengelo, Pred: gemeente hengelo\n",
      "True: commissie schadefonds geweldsmisdrijven, Pred: commissie schadefonds geweldsmisdrijven\n",
      "True: stichting de sociale maatschap, Pred: stichting de sociale maatschap\n",
      "True: stichting pcpo midden brabant te breda, Pred: stichting pcpo midden brabant\n",
      "True: stichting boogie woogie, instituut voor kunst en cultuur, Pred: stichting boogie woogie\n",
      "True: stichting water for life, Pred: stichting water for life\n",
      "True: Omgevingsdienst regio Utrecht, Pred: omgevingsdienst regio utrecht\n",
      "True: gemeente berkelland, Pred: gemeente berkelland\n",
      "True: gemeenschappelijke regeling openbare gezondheidszorg amstelland, Pred: gemeenschappelijke regeling openbare gezondheidszorg amstelland\n",
      "True: gemeente geertruidenberg, Pred: gemeente geertruidenberg\n",
      "True: stichting aloysius, Pred: aloysius stichting\n",
      "True: gr fryske utfieringstsjinst miljeu en omjouwing, Pred: gemeenschappelijke regeling fryske utfieringstsjinst miljeu en omjouwing\n",
      "True: landschap noord-holland, Pred: landschap noord-holland\n",
      "True: Stichting Stimuleringsfonds Volkshuisvesting Nederlandse ­gemeenten, Pred: stichting stimuleringsfonds volkshuisvesting nederlandse gemeenten\n",
      "True: provincie noord-brabant, Pred: provincie groningen\n",
      "True: stichting vrijwilligerscentrale zwolledoet!, Pred: stichting vrijwilligerscentrale zwolledoet\n",
      "True: gemeente haarlem, Pred: gemeente haarlem\n",
      "True: gemeenten delfzijl, appingedam en loppersum, Pred: gemeente eemsdelta\n",
      "True: stichting bloemenkeuringsdienst, Pred: stichting bloembollenkeuringsdienst\n",
      "True: stichting groenfonds midden-delfland, Pred: stichting groenfonds midden-delfland\n",
      "True: gemeenschappelijke regeling drechtsteden, Pred: gemeenschappelijke regeling drechtsteden\n",
      "True: stichting aloysius, Pred: aloysius stichting\n",
      "True: stichting museum ons'lieve heer op solder, Pred: museum ons ’ lieve heer op solder\n",
      "True: de domijnen, Pred: stichting de domijnen\n",
      "True: gemeente neder-betuwe, Pred: gemeente neder-betuwe\n",
      "True: stichting water for life, Pred: stichting water for life\n",
      "True: gemeente son en breugel, Pred: gemeente son en breugel\n"
     ]
    },
    {
     "data": {
      "text/plain": [
       "'Accuracy: 89.59%'"
      ]
     },
     "metadata": {},
     "output_type": "display_data"
    }
   ],
   "source": [
    "fuzzy_accuracy(test, test_output)"
   ]
  },
  {
   "cell_type": "markdown",
   "metadata": {},
   "source": [
    "#### Precision & Recall"
   ]
  },
  {
   "cell_type": "code",
   "execution_count": null,
   "metadata": {},
   "outputs": [],
   "source": [
    "# Initialize the prediction list\n",
    "prediction_list = []\n",
    "\n",
    "# Total number of predictions made\n",
    "total_predictions = len(test_output)\n",
    "\n",
    "# Iterate over test_output\n",
    "for text, organization_name in test_output:\n",
    "    # Check if any organization name is predicted\n",
    "    if organization_name.strip():  # Check if the prediction is not an empty string\n",
    "        prediction_list.append(1)  # Append 1 if there's any prediction\n",
    "    else:\n",
    "        prediction_list.append(0)  # Append 0 if no prediction was made\n",
    "\n",
    "# Display the prediction list\n",
    "print(\"Predictions:\", prediction_list)"
   ]
  },
  {
   "cell_type": "code",
   "execution_count": null,
   "metadata": {},
   "outputs": [],
   "source": [
    "precision_gpt, recall_gpt = calculate_precision_recall(prediction_list, actuals)\n",
    "\n",
    "print(f\"Precision GPT finetuned: {precision_gpt:.2f}\")\n",
    "print(f\"Recall GPT finetuned: {recall_gpt:.2f}\")"
   ]
  },
  {
   "cell_type": "markdown",
   "metadata": {},
   "source": [
    "## Second Dataset"
   ]
  },
  {
   "cell_type": "code",
   "execution_count": null,
   "metadata": {},
   "outputs": [],
   "source": [
    "seconddata = pd.read_csv('final_seconddata.csv')"
   ]
  },
  {
   "cell_type": "markdown",
   "metadata": {},
   "source": [
    "#### Get labeled format"
   ]
  },
  {
   "cell_type": "code",
   "execution_count": null,
   "metadata": {},
   "outputs": [
    {
     "name": "stderr",
     "output_type": "stream",
     "text": [
      "Creating training data: 100%|██████████| 458/458 [00:00<00:00, 3657.18it/s]\n"
     ]
    }
   ],
   "source": [
    "second_labeled = get_labeled_format(seconddata)"
   ]
  },
  {
   "cell_type": "code",
   "execution_count": null,
   "metadata": {},
   "outputs": [],
   "source": [
    "second_labeled = [entry for entry in second_labeled if len(entry[1]['entities']) > 0]"
   ]
  },
  {
   "cell_type": "code",
   "execution_count": null,
   "metadata": {},
   "outputs": [],
   "source": [
    "second_gpt = get_gpt_format(second_labeled)"
   ]
  },
  {
   "cell_type": "markdown",
   "metadata": {},
   "source": [
    "### Try base model"
   ]
  },
  {
   "cell_type": "code",
   "execution_count": null,
   "metadata": {},
   "outputs": [
    {
     "name": "stderr",
     "output_type": "stream",
     "text": [
      "Generating output:   0%|          | 0/162 [00:00<?, ?it/s]"
     ]
    },
    {
     "name": "stderr",
     "output_type": "stream",
     "text": [
      "Generating output:  57%|█████▋    | 92/162 [02:38<03:05,  2.65s/it]"
     ]
    },
    {
     "name": "stdout",
     "output_type": "stream",
     "text": [
      "Error processing item 92: Error code: 400 - {'error': {'message': \"This model's maximum context length is 16385 tokens. However, your messages resulted in 18466 tokens. Please reduce the length of the messages.\", 'type': 'invalid_request_error', 'param': 'messages', 'code': 'context_length_exceeded'}}\n"
     ]
    },
    {
     "name": "stderr",
     "output_type": "stream",
     "text": [
      "Generating output: 100%|██████████| 162/162 [04:42<00:00,  1.75s/it]\n"
     ]
    }
   ],
   "source": [
    "test_output = create_output(second_gpt, \"gpt-3.5-turbo\")"
   ]
  },
  {
   "cell_type": "markdown",
   "metadata": {},
   "source": [
    "#### Evaluation"
   ]
  },
  {
   "cell_type": "code",
   "execution_count": null,
   "metadata": {},
   "outputs": [
    {
     "name": "stdout",
     "output_type": "stream",
     "text": [
      "True: minafonds, Pred: minafonds\n",
      "True: vlaamse auditautoriteit, Pred: vlaamse auditautoriteit\n",
      "True: dienst van de bestuursrechtscolleges, Pred: dienst van de bestuursrechtscolleges\n",
      "True: sport vlaanderen, Pred: sport vlaanderen\n",
      "True: agentschap justitie en handhaving, Pred: agentschap justitie & handhaving\n",
      "True: literatuur vlaanderen, Pred: literatuur vlaanderen\n",
      "True: vito, Pred: vito - vlaamse instelling voor technologisch onderzoek\n",
      "True: van de vlaamse adviescommissie voor volksraadplegingen, Pred: vlaamse adviescommissie voor volksraadplegingen\n",
      "True: vlaamse belastingdienst, Pred: vlaamse belastingdienst\n",
      "True: geschillencommissie groeipakket, Pred: geschillencommissie groeipakket\n",
      "True: plantentuin meise, Pred: plantentuin meise\n",
      "True: toerisme vlaanderen, Pred: toerisme vlaanderen\n",
      "True: agentschap integratie en inburgering, Pred: agentschap integratie en inburgering\n",
      "True: ovam, Pred: openbare vlaamse afvalstoffenmaatschappij\n",
      "True: commissie van toezicht voor jeugdinstellingen, Pred: commissie van toezicht voor jeugdinstellingen\n",
      "True: inter, Pred: inter - toegankelijkheid en universal design\n",
      "True: woonzorglijn, Pred: departement zorg\n",
      "True: vlaams bemiddelingsboek, Pred: vlaamse ombudsdienst\n",
      "True: vlaamse ombudsdienst, Pred: vlaamse ombudsdienst\n",
      "True: lokaal bemiddelingsboek, Pred: lokale kamer van de vlaamse ombudsdienst\n",
      "True: departement financiën en begroting, Pred: departement financiën en begroting\n",
      "True: jaarrapport vlaams partnerschap duaal leren, Pred: vlaams partnerschap duaal leren\n",
      "True: wetgevingstechnische en taalkundige adviesverlening, Pred: vlaanderen stichting/**********************************************************************************/ dkbuza/**********************************************************************************/ wetgevingstechnische en taalkundige adviesverlening\n",
      "True: diplomatieke academie, Pred: diplomatieke academie\n",
      "True: agodi, Pred: agodi - agentschap voor onderwijsdiensten\n",
      "True: kinderrechtencommissariaat, Pred: kinderrechtencommissariaat\n",
      "True: examencommissie secundair onderwijs, Pred: examencommissie secundair onderwijs\n",
      "True: agentschap vlaamse sociale bescherming, Pred: agentschap vlaamse sociale bescherming\n",
      "True: dienst met afzonderlijk beheer vlaams infrastructuurfonds, Pred: vlaams infrastructuurfonds met afzonderlijk beheer\n",
      "True: vlaams brusselfonds, Pred: vlaams brusselfonds\n",
      "True: vlaamse hogescholenraad, Pred: vlaamse hogescholenraad\n",
      "True: sociale dienst, Pred: vzw sociale dienst voor het vlaams overheidspersoneel\n",
      "True: vlaamse sociale inspectie, Pred: departement werk en sociale economie vlaanderen\n",
      "True: vdab, Pred: vdab - vlaamse dienst voor arbeidsbemiddeling en beroepsopleiding\n",
      "True: wapenhandel, Pred: departement kanselarij & buitenlandse zaken\n",
      "True: garantiefonds voor huisvesting, Pred: garantiefonds voor huisvesting\n",
      "True: de lijn, Pred: vervoerregio vlaanderen\n",
      "True: dienst economische migratie, Pred: dienst economische migratie\n",
      "True: vlabinvest, Pred: vlabinvest\n",
      "True: steunpunt taalwetwijzer, Pred: agentschap binnenlands bestuur\n",
      "True: commissie energiebeleidsovereenkomsten, Pred: commissie energiebeleidsovereenkomst roderveldlaan 5/1 , b-2600 berchem\n",
      "True: vlaamse bemiddelingscommissie werkzaamheden, Pred: vlaamse bemiddelingscommissie\n",
      "True: raad voor betwistingen inzake studievoortgangsbeslissingen, Pred: raad voor betwistingen inzake studievoortgangsbeslissingen\n",
      "True: verslag over de uitvoering van het bodemdecreet, Pred: ovam\n",
      "True: dienstencentrum boekhouding, Pred: departement financiën en begroting\n",
      "True: fonds culturele infrastructuur, Pred: fonds culturele infrastructuur\n",
      "True: jeugdhulp, Pred: jaarverslag jeugdhulp\n",
      "True: van de commissie hoger onderwijs, Pred: commissie hoger onderwijs\n",
      "True: groeipakket, Pred: opgroeien - groeipakket\n",
      "True: handhavingsrapport ruimtelijke ordening, Pred: vlaamse hoge handhavingsraad voor ruimte en milieu\n",
      "True: environmental enforcement report, Pred: flemish high enforcement council for spatial planning and environment\n",
      "True: milieuhandhavingsrapport, Pred: vlaamse hoge handhavingsraad voor ruimte en milieu\n",
      "True: verslag over de financiële toestand en de evolutie van het personeelsbestand van het hoger onderwijs, Pred: vlaamse hogeronderwijsraad\n",
      "True: topstukkenfonds, Pred: topstukkenfonds\n",
      "True: vlaamse woonraad, Pred: vlaamse woonraad\n",
      "True: halfjaarlijks verslag wapenhandel, Pred: vlaamse stichting voor wapenhandel\n",
      "True: kind en gezin, Pred: kind en gezin\n",
      "True: grindfonds, Pred: grindfonds\n",
      "True: the flemish oda report, Pred: flanders department of foreign affairs\n",
      "True: verslag over de werkzaamheden van de regeringscommissarissen, Pred: college van regeringscommissarissen bij het hoger onderwijs\n",
      "True: vlaanderen connect, Pred: vlaanderen connect\n",
      "True: vlaamse toezichtcommissie voor het elektronische bestuurlijke gegevensverkeer, Pred: vlaamse toezichtcommissie voor het elektronische bestuurlijke gegevensverkeer\n",
      "True: woningkwaliteit, Pred: wonen-vlaanderen stichting\n",
      "True: vlaamse wooninspectie, Pred: vlaamse wooninspectie\n",
      "True: taalverslag, Pred: departement onderwijs en vorming afdeling hoger onderwijs en volwassenenonderwijs\n",
      "True: klachtenboek, Pred: vlaamse ombudsdienst\n",
      "True: monitoringsysteem duurzaam oppervlaktedelfstoffenbeleid, Pred: departement omgeving, openbare vlaamse afvalstoffenmaatschappij, vlaamse instelling voor technologisch onderzoek\n",
      "True: netwerk cultuureducatie lerarenopleiding, Pred: netwerk cultuureducatie lerarenopleiding\n",
      "True: databank ondergrond vlaanderen, Pred: databank ondergrond vlaanderen\n",
      "True: raadgevend comité van het vlaams centrum voor adoptie, Pred: vlaams centrum voor adoptie\n",
      "True: 10 jaar mobiliteitsraad van vlaanderen, Pred: mobiliteitsraad van vlaanderen\n",
      "True: vlaamse raad voor wetenschap en innovatie, Pred: vrwi - vlaamse raad voor wetenschap en innovatie\n",
      "True: vlaams zorgfonds, Pred: vlaams zorgfonds\n",
      "True: nv de scheepvaart, Pred: nv de scheepvaart\n",
      "True: herculesstichting, Pred: herculesstichting\n",
      "True: grindcomité en subcomités, Pred: grindfonds met zijn grindcomité, subcomités en projectgrindwinningscomité.\n",
      "True: arbeidskaarten en beroepskaarten, Pred: dienst economische migratie van het departement werk en sociale economie\n",
      "True: jaarrapport ervaringsbewijs, Pred: departement werk en sociale economie in samenwerking met het esf-agentschap\n",
      "True: diversiteit bij de vlaamse overheid, Pred: vlaamse overheid diversiteitsbeleid\n",
      "True: kunsten en erfgoed, Pred: kunsten en erfgoed\n",
      "True: frans masereel centrum, Pred: frans masereel centrum\n",
      "True: justitiehuizen, Pred: vlaamse justitiehuizen\n",
      "True: het facilitair bedrijf, Pred: facilitair bedrijf\n",
      "True: zorginspectie, Pred: zorginspectie\n",
      "True: studiedienst van de vlaamse regering, Pred: studiedienst van de vlaamse regering\n",
      "True: lozingen in de lucht, Pred: vlaamse milieumaatschappij\n",
      "True: raad voor vergunningsbetwistingen, Pred: raad voor vergunningsbetwistingen\n",
      "True: vlaams subsidieagentschap voor werk en sociale economie, Pred: vlaams subsidieagentschap voor werk en sociale economie\n",
      "True: kinderopvang, Pred: kind en gezin\n",
      "True: vlaams agentschap voor internationale samenwerking, Pred: vlaams agentschap voor internationale samenwerking\n",
      "True: evaluatierapport controlecampagne, Pred: ovam\n",
      "True: vlaamse regelgeving, Pred: No prediction\n",
      "True: wonen antwerpen, Pred: wonen antwerpen\n",
      "True: wonen limburg, Pred: wonen limburg\n",
      "True: lozingen in de lucht, Pred: lozingen in de lucht 200-2011\n",
      "True: eigen vermogen flanders hydraulics, Pred: flanders hydraulics\n",
      "True: luchthaven antwerpen, Pred: luchthaven antwerpen\n",
      "True: jaarboek inburgering & integratie, Pred: vlaamse overheid stichting integratie inburgering en integratie \n",
      "True: jobpunt vlaanderen, Pred: jobpunt vlaanderen\n",
      "True: agentschap voor overheidspersoneel, Pred: agentschap voor overheidspersoneel\n",
      "True: mos, Pred: vlaamse overheid departement leefmilieu , natuur en energie afdeling milieu-integratie en -subsidiëringen \n",
      "True: lozingen in de lucht, Pred: lozingen in de lucht 1990-2009\n",
      "True: jaaroverzicht vlaamse havens, Pred: vlaamse havencommissie\n",
      "True: team vlaams bouwmeester, Pred: vlaams bouwmeester team\n",
      "True: vlaamse raad voor wetenschapsbeleid, Pred: vlaamse raad voor wetenschap en innovatie\n",
      "True: lozingen in de lucht, Pred: lozingen in de lucht 1990-2008 • internationale ontwikkelingen\n",
      "True: vlaamse raad voor wetenschapsbeleid, Pred: vlaamse raad voor wetenschapsbeleid\n",
      "True: diva vzw, Pred: diva vzw\n",
      "True: lozingen in de lucht, Pred: lozingen in de lucht 1990-2007\n",
      "True: raad voor cultuur, Pred: raad voor cultuur\n",
      "True: lozingen in de lucht, Pred: vlaamse milieumaatschappij\n",
      "True: hydrologisch jaarboek, Pred: vlaamse overheid departement mobiliteit en openbare werken waterbouwkundig laboratorium hydrologisch informatiecentrum\n",
      "True: vlaamse mediaraad, Pred: vlaamse mediaraad\n",
      "True: raad voor de kunsten, Pred: raad voor de kunsten\n",
      "True: lozingen in de lucht, Pred: vlaamse milieumaatschappij\n",
      "True: afdeling milieuvergunningen, Pred: afdeling milieuvergunningen, departement leefmilieu, natuur en energie\n",
      "True: hoge raad voor het herstelbeleid, Pred: hoge raad voor het herstelbeleid\n",
      "True: activiteitenverslag afdeling hogescholen, Pred: ministerie van de vlaamse gemeenschap afdeling hogescholen\n",
      "True: lozingen in de lucht, Pred: vlaamse milieumaatschappij\n",
      "True: voorlichtingsambtenaar, Pred: voorlichtingsambtenaar\n",
      "True: kroniek van de afdeling jeugd en sport, Pred: vlaamse gemeenschap - afdeling jeugd en sport\n",
      "True: activiteitenverslag afdeling hogescholen, Pred: ministerie van de vlaamse gemeenschap afdeling hogescholen\n",
      "True: informatieambtenaar, Pred: vlaamse overheid\n",
      "True: afdeling volksontwikkeling en bibliotheekwerk, Pred: ministerie van de vlaamse gemeenschap departement welzijn, volksgezondheid en cultuur administratie cultuur afdeling volksontwikkeling en bibliotheekwerk\n",
      "True: staatsolie, Pred: staatsolie maatschappij suriname n.v.\n",
      "True: energie autoriteit suriname, Pred: energie autoriteit suriname\n",
      "True: staatsolie, Pred: staatsolie maatschappij suriname n.v.\n",
      "True: energie autoriteit suriname, Pred: energie autoriteit suriname\n",
      "True: staatsolie, Pred: staatsolie maatschappij suriname nv\n",
      "True: energie autoriteit suriname, Pred: energie autoriteit suriname\n",
      "True: staatsolie, Pred: staatsolie maatschappij suriname nv\n",
      "True: energie autoriteit suriname, Pred: energie autoriteit suriname\n",
      "True: energie autoriteit suriname, Pred: energie autoriteit suriname\n",
      "True: algemeen pensioenfonds, Pred: algemeen pensioenfonds\n",
      "True: energie autoriteit suriname, Pred: energie autoriteit suriname\n",
      "True: algemeen pensioenfonds, Pred: algemeen pensioenfonds\n",
      "True: telesur, Pred: telesur stichting\n",
      "True: telesur, Pred: telesur stichting\n",
      "True: telesur, Pred: telesur stichting\n",
      "True: telesur, Pred: telesur\n",
      "True: stichting jeugdtandverzorging, Pred: stichting jeugdtandverzorging\n",
      "True: stichting jeugdtandverzorging, Pred: stichting jeugdtandverzorging\n",
      "True: stichting jeugdtandverzorging, Pred: stichting jeugdtandverzorging\n",
      "True: stichting jeugdtandverzorging, Pred: stichting jeugdtandverzorging\n",
      "True: stichting jeugdtandverzorging, Pred: stichting jeugdtandverzorging\n",
      "True: stichting jeugdtandverzorging, Pred: stichting jeugdtandverzorging\n",
      "True: stichting jeugdtandverzorging, Pred: stichting jeugdtandverzorging\n",
      "True: stichting jeugdtandverzorging, Pred: stichting jeugdtandverzorging\n",
      "True: stichting jeugdtandverzorging, Pred: stichting jeugdtandverzorging\n",
      "True: stichting jeugdtandverzorging, Pred: stichting jeugdtandverzorging\n",
      "True: stichting jeugdtandverzorging, Pred: stichting jeugdtandverzorging\n",
      "True: stichting jeugdtandverzorging, Pred: stichting jeugdtandverzorging\n",
      "True: staatsolie, Pred: staatsolie maatschappij nv\n",
      "True: staatsolie, Pred: staatsolie maatschappij suriname n.v.\n",
      "True: staatsolie, Pred: staatsolie maatschappij nv\n",
      "True: staatsolie, Pred: staatsolie maatschappij suriname n.v.\n",
      "True: staatsolie, Pred: staatsolie maatschappij suriname nv\n",
      "True: staatsolie, Pred: staatsolie maatschappij nv\n",
      "True: staatsolie, Pred: staatsolie maatschappij suriname nv\n",
      "True: staatsolie, Pred: staatsolie maatschappij nv\n",
      "True: staatsolie, Pred: staatsolie maatschappij suriname n.v.\n",
      "True: staatsolie, Pred: staatsolie maatschappij suriname nv\n"
     ]
    },
    {
     "data": {
      "text/plain": [
       "'Accuracy: 75.31%'"
      ]
     },
     "metadata": {},
     "output_type": "display_data"
    }
   ],
   "source": [
    "fuzzy_accuracy(seconddata, test_output)"
   ]
  },
  {
   "cell_type": "markdown",
   "metadata": {},
   "source": [
    "### Finetuned Model"
   ]
  },
  {
   "cell_type": "code",
   "execution_count": null,
   "metadata": {},
   "outputs": [
    {
     "name": "stderr",
     "output_type": "stream",
     "text": [
      "Generating output:  57%|█████▋    | 92/162 [00:59<00:36,  1.90it/s]"
     ]
    },
    {
     "name": "stdout",
     "output_type": "stream",
     "text": [
      "Error processing item 92: Error code: 400 - {'error': {'message': \"This model's maximum context length is 16385 tokens. However, your messages resulted in 18466 tokens. Please reduce the length of the messages.\", 'type': 'invalid_request_error', 'param': 'messages', 'code': 'context_length_exceeded'}}\n"
     ]
    },
    {
     "name": "stderr",
     "output_type": "stream",
     "text": [
      "Generating output: 100%|██████████| 162/162 [01:42<00:00,  1.58it/s]\n"
     ]
    }
   ],
   "source": [
    "test_output = create_output(second_gpt, finetuned_id)"
   ]
  },
  {
   "cell_type": "code",
   "execution_count": null,
   "metadata": {},
   "outputs": [
    {
     "name": "stdout",
     "output_type": "stream",
     "text": [
      "True: minafonds, Pred: minafonds\n",
      "True: vlaamse auditautoriteit, Pred: vlaamse auditautoriteit\n",
      "True: dienst van de bestuursrechtscolleges, Pred: dienst van de bestuursrechtscolleges\n",
      "True: sport vlaanderen, Pred: sport vlaanderen\n",
      "True: agentschap justitie en handhaving, Pred: agentschap justitie & handhaving\n",
      "True: literatuur vlaanderen, Pred: literatuur vlaanderen\n",
      "True: vito, Pred: vito\n",
      "True: van de vlaamse adviescommissie voor volksraadplegingen, Pred: ministerie van de vlaamse gemeenschap\n",
      "True: vlaamse belastingdienst, Pred: vlaamse belastingdienst\n",
      "True: geschillencommissie groeipakket, Pred: geschillencommissie groeipakket\n",
      "True: plantentuin meise, Pred: plantentuin meise\n",
      "True: toerisme vlaanderen, Pred: toerisme vlaanderen\n",
      "True: agentschap integratie en inburgering, Pred: agentschap integratie en inburgering\n",
      "True: ovam, Pred: openbare vlaamse afvalstoffenmaatschappij\n",
      "True: commissie van toezicht voor jeugdinstellingen, Pred: commissie van toezicht voor jeugdinstellingen\n",
      "True: inter, Pred: inter\n",
      "True: woonzorglijn, Pred: departement zorg\n",
      "True: vlaams bemiddelingsboek, Pred: vlaams ombudsdienst\n",
      "True: vlaamse ombudsdienst, Pred: vlaamse ombudsdienst\n",
      "True: lokaal bemiddelingsboek, Pred: lokale kamer van de vlaamse ombudsdienst\n",
      "True: departement financiën en begroting, Pred: departement financiën en begroting\n",
      "True: jaarrapport vlaams partnerschap duaal leren, Pred: vlaams partnerschap duaal leren\n",
      "True: wetgevingstechnische en taalkundige adviesverlening, Pred: departement kennis, gelet op het coronavirus, de federale raad voor het eerst sinds 80 jaar zijn paginabeurt van herfst na de zomer naar voren heeft verplaatst\n",
      "True: diplomatieke academie, Pred: diplomatieke academie\n",
      "True: agodi, Pred: agodi\n",
      "True: kinderrechtencommissariaat, Pred: kinderrechtencommissariaat\n",
      "True: examencommissie secundair onderwijs, Pred: ahovoks agentschap voor hoger onderwijs , volwassenenonderwijs , kwalificaties & studietoelagen\n",
      "True: agentschap vlaamse sociale bescherming, Pred: agentschap vlaamse sociale bescherming\n",
      "True: dienst met afzonderlijk beheer vlaams infrastructuurfonds, Pred: dienst met afzonderlijk beheer vlaams infrastructuurfonds\n",
      "True: vlaams brusselfonds, Pred: vlaams brusselfonds\n",
      "True: vlaamse hogescholenraad, Pred: vlaamse hogescholenraad\n",
      "True: sociale dienst, Pred: vzw sociale dienst voor het vlaams overheidspersoneel\n",
      "True: vlaamse sociale inspectie, Pred: departement werk & sociale economie\n",
      "True: vdab, Pred: vdab\n",
      "True: wapenhandel, Pred: departement kanselarij & buitenlandse zaken\n",
      "True: garantiefonds voor huisvesting, Pred: garantiefonds voor huisvesting\n",
      "True: de lijn, Pred: de lijn\n",
      "True: dienst economische migratie, Pred: dienst economische migratie\n",
      "True: vlabinvest, Pred: vlabinvest\n",
      "True: steunpunt taalwetwijzer, Pred: steunpunt taalwetwijzer\n",
      "True: commissie energiebeleidsovereenkomsten, Pred: commissie energiebeleidsovereenkomst\n",
      "True: vlaamse bemiddelingscommissie werkzaamheden, Pred: vlaamse bemiddelingscommissie\n",
      "True: raad voor betwistingen inzake studievoortgangsbeslissingen, Pred: raad voor betwistingen inzake studievoortgangsbeslissingen\n",
      "True: verslag over de uitvoering van het bodemdecreet, Pred: openbare vlaamse afvalstoffenmaatschappij\n",
      "True: dienstencentrum boekhouding, Pred: dienstencentrum boekhouding\n",
      "True: fonds culturele infrastructuur, Pred: fonds culturele infrastructuur\n",
      "True: jeugdhulp, Pred: intersectoraal jaarverslag jeugdhulp\n",
      "True: van de commissie hoger onderwijs, Pred: commissie hoger onderwijs\n",
      "True: groeipakket, Pred: groeipakket\n",
      "True: handhavingsrapport ruimtelijke ordening, Pred: vlaamse hoge handhavingsraad voor ruimte en milieu\n",
      "True: environmental enforcement report, Pred: flemish high enforcement council for spatial planning and environment\n",
      "True: milieuhandhavingsrapport, Pred: vlaamse hoge handhavingsraad voor ruimte en milieu\n",
      "True: verslag over de financiële toestand en de evolutie van het personeelsbestand van het hoger onderwijs, Pred: college van regeringscommissarissen\n",
      "True: topstukkenfonds, Pred: topstukkenfonds\n",
      "True: vlaamse woonraad, Pred: vlaamse woonraad\n",
      "True: halfjaarlijks verslag wapenhandel, Pred: departement buitenlandse zaken\n",
      "True: kind en gezin, Pred: kind en gezin\n",
      "True: grindfonds, Pred: grindfonds\n",
      "True: the flemish oda report, Pred: government of flanders\n",
      "True: verslag over de werkzaamheden van de regeringscommissarissen, Pred: college van regeringscommissarissen bij het hoger onderwijs\n",
      "True: vlaanderen connect, Pred: vlaanderen connect\n",
      "True: vlaamse toezichtcommissie voor het elektronische bestuurlijke gegevensverkeer, Pred: vlaamse toezichtcommissie voor het elektronische bestuurlijke gegevensverkeer\n",
      "True: woningkwaliteit, Pred: wonen-vlaanderen\n",
      "True: vlaamse wooninspectie, Pred: vlaamse wooninspectie\n",
      "True: taalverslag, Pred: departement onderwijs en vorming\n",
      "True: klachtenboek, Pred: departement mobiliteit en openbare werken\n",
      "True: monitoringsysteem duurzaam oppervlaktedelfstoffenbeleid, Pred: vlaamse overheid\n",
      "True: netwerk cultuureducatie lerarenopleiding, Pred: netwerk cultuureducatie lerarenopleiding\n",
      "True: databank ondergrond vlaanderen, Pred: databank ondergrond vlaanderen\n",
      "True: raadgevend comité van het vlaams centrum voor adoptie, Pred: vlaams centrum voor adoptie\n",
      "True: 10 jaar mobiliteitsraad van vlaanderen, Pred: mobiliteitsraad van vlaanderen\n",
      "True: vlaamse raad voor wetenschap en innovatie, Pred: vlaamse raad voor wetenschap en innovatie\n",
      "True: vlaams zorgfonds, Pred: vlaams zorgfonds\n",
      "True: nv de scheepvaart, Pred: nv de scheepvaart\n",
      "True: herculesstichting, Pred: o & o infrastructuur herculesstichting\n",
      "True: grindcomité en subcomités, Pred: grindfonds\n",
      "True: arbeidskaarten en beroepskaarten, Pred: dienst economische migratie\n",
      "True: jaarrapport ervaringsbewijs, Pred: departement werk en sociale economie\n",
      "True: diversiteit bij de vlaamse overheid, Pred: dienst diversiteitsbeleid\n",
      "True: kunsten en erfgoed, Pred: kunsten en erfgoed\n",
      "True: frans masereel centrum, Pred: frans masereel centrum\n",
      "True: justitiehuizen, Pred: vlaamse justitiehuizen\n",
      "True: het facilitair bedrijf, Pred: agentschap facilitair bedrijf\n",
      "True: zorginspectie, Pred: zorginspectie\n",
      "True: studiedienst van de vlaamse regering, Pred: studiedienst van de vlaamse regering\n",
      "True: lozingen in de lucht, Pred: vlaamse milieumaatschappij\n",
      "True: raad voor vergunningsbetwistingen, Pred: raad voor vergunningsbetwistingen\n",
      "True: vlaams subsidieagentschap voor werk en sociale economie, Pred: vlaams subsidieagentschap voor werk en sociale economie\n",
      "True: kinderopvang, Pred: kind en gezin\n",
      "True: vlaams agentschap voor internationale samenwerking, Pred: vlaams agentschap voor internationale samenwerking\n",
      "True: evaluatierapport controlecampagne, Pred: openbare vlaamse afvalstoffenmaatschappij\n",
      "True: vlaamse regelgeving, Pred: No prediction\n",
      "True: wonen antwerpen, Pred: wonen antwerpen\n",
      "True: wonen limburg, Pred: wonen limburg\n",
      "True: lozingen in de lucht, Pred: lozingen in de lucht\n",
      "True: eigen vermogen flanders hydraulics, Pred: flanders hydraulics\n",
      "True: luchthaven antwerpen, Pred: luchthaven antwerpen\n",
      "True: jaarboek inburgering & integratie, Pred: inburgering & integratie\n",
      "True: jobpunt vlaanderen, Pred: jobpunt vlaanderen\n",
      "True: agentschap voor overheidspersoneel, Pred: agentschap voor overheidspersoneel\n",
      "True: mos, Pred: milieuzorg op school\n",
      "True: lozingen in de lucht, Pred: lozingen in de lucht\n",
      "True: jaaroverzicht vlaamse havens, Pred: vlaamse havencommissie\n",
      "True: team vlaams bouwmeester, Pred: team vlaams bouwmeester\n",
      "True: vlaamse raad voor wetenschapsbeleid, Pred: vlaamse raad voor wetenschap en innovatie\n",
      "True: lozingen in de lucht, Pred: lozingen in de lucht\n",
      "True: vlaamse raad voor wetenschapsbeleid, Pred: vlaamse raad voor wetenschapsbeleid\n",
      "True: diva vzw, Pred: diva vzw\n",
      "True: lozingen in de lucht, Pred: lozingen in de lucht\n",
      "True: raad voor cultuur, Pred: raad voor cultuur\n",
      "True: lozingen in de lucht, Pred: vlaamse milieumaatschappij\n",
      "True: hydrologisch jaarboek, Pred: vlaamse overheid departement mobiliteit en openbare werken\n",
      "True: vlaamse mediaraad, Pred: vlaamse mediaraad\n",
      "True: raad voor de kunsten, Pred: raad voor de kunsten\n",
      "True: lozingen in de lucht, Pred: vlaamse milieumaatschappij\n",
      "True: afdeling milieuvergunningen, Pred: afdeling milieuvergunningen\n",
      "True: hoge raad voor het herstelbeleid, Pred: hrh hoge raad voor het herstelbeleid\n",
      "True: activiteitenverslag afdeling hogescholen, Pred: ministerie van de vlaamse gemeenschap\n",
      "True: lozingen in de lucht, Pred: vlaamse milieumaatschappij\n",
      "True: voorlichtingsambtenaar, Pred: voorlichtingsambtenaar\n",
      "True: kroniek van de afdeling jeugd en sport, Pred: vlaams instituut voor vrede en veiligheid\n",
      "True: activiteitenverslag afdeling hogescholen, Pred: ministerie van de vlaamse gemeenschap\n",
      "True: informatieambtenaar, Pred: cel externe communicatie\n",
      "True: afdeling volksontwikkeling en bibliotheekwerk, Pred: ministerie van de vlaamse gemeenschap\n",
      "True: staatsolie, Pred: staatsolie maatschappij suriname n.v.\n",
      "True: energie autoriteit suriname, Pred: energie autoriteit suriname\n",
      "True: staatsolie, Pred: staatsolie maatschappij suriname n.v.\n",
      "True: energie autoriteit suriname, Pred: energie autoriteit suriname\n",
      "True: staatsolie, Pred: staatsolie maatschappij suriname n.v.\n",
      "True: energie autoriteit suriname, Pred: energie autoriteit suriname\n",
      "True: staatsolie, Pred: staatsolie maatschappij suriname n.v.\n",
      "True: energie autoriteit suriname, Pred: energie autoriteit suriname\n",
      "True: energie autoriteit suriname, Pred: energie autoriteit suriname\n",
      "True: algemeen pensioenfonds, Pred: algemeen pensioenfonds\n",
      "True: energie autoriteit suriname, Pred: energie autoriteit suriname\n",
      "True: algemeen pensioenfonds, Pred: algemeen pensioenfonds\n",
      "True: telesur, Pred: telesur\n",
      "True: telesur, Pred: telesur\n",
      "True: telesur, Pred: telesur\n",
      "True: telesur, Pred: telesur\n",
      "True: stichting jeugdtandverzorging, Pred: stichting jeugdtandverzorging\n",
      "True: stichting jeugdtandverzorging, Pred: stichting jeugdtandverzorging\n",
      "True: stichting jeugdtandverzorging, Pred: stichting jeugdtandverzorging\n",
      "True: stichting jeugdtandverzorging, Pred: stichting jeugdtandverzorging\n",
      "True: stichting jeugdtandverzorging, Pred: stichting jeugdtandverzorging\n",
      "True: stichting jeugdtandverzorging, Pred: stichting jeugdtandverzorging\n",
      "True: stichting jeugdtandverzorging, Pred: stichting jeugdtandverzorging\n",
      "True: stichting jeugdtandverzorging, Pred: stichting jeugdtandverzorging\n",
      "True: stichting jeugdtandverzorging, Pred: stichting jeugdtandverzorging\n",
      "True: stichting jeugdtandverzorging, Pred: stichting jeugdtandverzorging\n",
      "True: stichting jeugdtandverzorging, Pred: stichting jeugdtandverzorging\n",
      "True: stichting jeugdtandverzorging, Pred: stichting jeugdtandverzorging\n",
      "True: staatsolie, Pred: staatsolie maatschappij nv\n",
      "True: staatsolie, Pred: staatsolie maatschappij suriname n.v.\n",
      "True: staatsolie, Pred: staatsolie\n",
      "True: staatsolie, Pred: staatsolie maatschappij suriname n.v.\n",
      "True: staatsolie, Pred: staatsolie\n",
      "True: staatsolie, Pred: staatsolie maatschappij nv\n",
      "True: staatsolie, Pred: staatsolie maatschappij suriname n.v.\n",
      "True: staatsolie, Pred: staatsolie maatschappij nv\n",
      "True: staatsolie, Pred: staatsolie maatschappij suriname n.v.\n",
      "True: staatsolie, Pred: staatsolie\n"
     ]
    },
    {
     "data": {
      "text/plain": [
       "'Accuracy: 75.31%'"
      ]
     },
     "metadata": {},
     "output_type": "display_data"
    }
   ],
   "source": [
    "fuzzy_accuracy(seconddata, test_output)"
   ]
  },
  {
   "cell_type": "code",
   "execution_count": null,
   "metadata": {},
   "outputs": [],
   "source": []
  },
  {
   "cell_type": "code",
   "execution_count": null,
   "metadata": {},
   "outputs": [],
   "source": []
  },
  {
   "cell_type": "code",
   "execution_count": null,
   "metadata": {},
   "outputs": [],
   "source": []
  },
  {
   "cell_type": "code",
   "execution_count": null,
   "metadata": {},
   "outputs": [],
   "source": []
  },
  {
   "cell_type": "code",
   "execution_count": null,
   "metadata": {},
   "outputs": [],
   "source": []
  },
  {
   "cell_type": "code",
   "execution_count": null,
   "metadata": {},
   "outputs": [],
   "source": []
  },
  {
   "cell_type": "markdown",
   "metadata": {},
   "source": [
    "\n"
   ]
  }
 ],
 "metadata": {
  "language_info": {
   "name": "python"
  }
 },
 "nbformat": 4,
 "nbformat_minor": 2
}
