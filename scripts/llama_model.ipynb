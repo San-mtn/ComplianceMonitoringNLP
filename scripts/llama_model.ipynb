{
 "cells": [
  {
   "cell_type": "markdown",
   "metadata": {},
   "source": [
    "# Llama3 Model"
   ]
  },
  {
   "cell_type": "markdown",
   "metadata": {},
   "source": [
    "### Importing libraries"
   ]
  },
  {
   "cell_type": "code",
   "execution_count": null,
   "metadata": {},
   "outputs": [],
   "source": [
    "from langchain_community.llms import Ollama\n",
    "import pandas as pd\n",
    "from tqdm import tqdm\n",
    "from sklearn.model_selection import train_test_split\n",
    "import re\n",
    "import nltk\n",
    "from fuzzywuzzy import fuzz\n",
    "import torch"
   ]
  },
  {
   "cell_type": "markdown",
   "metadata": {},
   "source": [
    "### Load data and model"
   ]
  },
  {
   "cell_type": "code",
   "execution_count": null,
   "metadata": {},
   "outputs": [],
   "source": [
    "df = pd.read_csv('final_data.csv')\n",
    "\n",
    "llama_model = Ollama(model=\"llama3\")"
   ]
  },
  {
   "cell_type": "markdown",
   "metadata": {},
   "source": [
    "### Split into train and test sets"
   ]
  },
  {
   "cell_type": "code",
   "execution_count": null,
   "metadata": {},
   "outputs": [],
   "source": [
    "train, test = train_test_split(df, test_size=0.3, random_state=42)\n",
    "\n",
    "print(\"Train set size:\", len(train))\n",
    "print(\"Test set size:\", len(test))"
   ]
  },
  {
   "cell_type": "code",
   "execution_count": null,
   "metadata": {},
   "outputs": [],
   "source": [
    "device = torch.device(\"cuda\" if torch.cuda.is_available() else \"cpu\")"
   ]
  },
  {
   "cell_type": "markdown",
   "metadata": {},
   "source": [
    "## Base Model"
   ]
  },
  {
   "cell_type": "markdown",
   "metadata": {},
   "source": [
    "### Send and filter prompts to Llama "
   ]
  },
  {
   "cell_type": "code",
   "execution_count": null,
   "metadata": {},
   "outputs": [],
   "source": [
    "def filter_response(response):\n",
    "    unwanted_phrases = [\n",
    "        \"The full name of the organization is:\",\n",
    "        \"The organization's full name is:\",\n",
    "        \"The full name of the organization mentioned in the report is:\"\n",
    "    ]\n",
    "    \n",
    "    for phrase in unwanted_phrases:\n",
    "        response = response.replace(phrase, \"\")\n",
    "    \n",
    "    response = response.strip()\n",
    "    return response"
   ]
  },
  {
   "cell_type": "code",
   "execution_count": null,
   "metadata": {},
   "outputs": [],
   "source": [
    "def get_organization_name(data, llama_model):\n",
    "    results = []\n",
    "    for index, row in tqdm(data.iterrows(), total=data.shape[0], desc=\"Processing texts\"):\n",
    "        prompt = [f\"Identify only the full name of the organization from the following Dutch ANNUAL REPORT and provide it in its original language. Return only the organization name and nothing else. ANNUAL REPORT: {row['Cleaned Text']}\"]\n",
    "        response = llama_model.invoke(prompt)\n",
    "        \n",
    "        if response:\n",
    "            extracted_org = filter_response(response)\n",
    "        else:\n",
    "            extracted_org = 'No response'\n",
    "        results.append((row['Cleaned Text'], extracted_org))\n",
    "    return results"
   ]
  },
  {
   "cell_type": "markdown",
   "metadata": {},
   "source": [
    "### Run base model"
   ]
  },
  {
   "cell_type": "code",
   "execution_count": null,
   "metadata": {},
   "outputs": [],
   "source": [
    "organization_names = get_organization_name(test, llama_model)\n",
    "\n",
    "for text, org_name in organization_names:\n",
    "    print(f\"Extracted Organization: {org_name}\\n\")"
   ]
  },
  {
   "cell_type": "markdown",
   "metadata": {},
   "source": [
    "### Evaluation"
   ]
  },
  {
   "cell_type": "code",
   "execution_count": null,
   "metadata": {},
   "outputs": [
    {
     "name": "stdout",
     "output_type": "stream",
     "text": [
      "Accuracy: 0.4387\n"
     ]
    }
   ],
   "source": [
    "def accuracy(test, organization_names)\n",
    "    true_orgs = test['True Organization'].tolist()\n",
    "    pred_orgs = [org_name.lower() for text, org_name in organization_names]\n",
    "\n",
    "    correct = 0\n",
    "    total = 0\n",
    "    for pred, true in zip(pred_orgs, true_orgs):\n",
    "        pred = str(pred)\n",
    "        true = str(true)\n",
    "        if pred == true:\n",
    "            correct += 1\n",
    "        elif pred in true:\n",
    "            correct += 1\n",
    "        elif true in pred:\n",
    "            correct += 1\n",
    "        total += 1\n",
    "\n",
    "    accuracy = correct / total if total > 0 else 0\n",
    "    return f\"Accuracy: {accuracy:.4f}\"\n",
    "\n",
    "accuracy(test, organization_names)"
   ]
  },
  {
   "cell_type": "code",
   "execution_count": null,
   "metadata": {},
   "outputs": [],
   "source": [
    "def fuzzy_accuracy(df, organization_names)\n",
    "    true_orgs = df['True Organization'].tolist()\n",
    "    pred_orgs = [org_name.lower() for text, org_name in organization_names]\n",
    "\n",
    "    correct = 0\n",
    "    total = 0\n",
    "    threshold = 80  # Adjust the threshold as needed\n",
    "\n",
    "    for pred, true in zip(pred_orgs, true_orgs):\n",
    "        pred = str(pred).lower().strip()\n",
    "        true = str(true).lower().strip()\n",
    "\n",
    "        match_score = fuzz.partial_ratio(pred, true)\n",
    "        if match_score >= threshold:\n",
    "            correct += 1\n",
    "        total += 1\n",
    "\n",
    "    accuracy = correct / total if total > 0 else 0\n",
    "    return f\"Accuracy: {accuracy:.4f}\"\n",
    "\n",
    "fuzzy_accuracy(test, organization_names)"
   ]
  },
  {
   "cell_type": "markdown",
   "metadata": {},
   "source": [
    "#### Precision & Recall"
   ]
  },
  {
   "cell_type": "code",
   "execution_count": null,
   "metadata": {},
   "outputs": [],
   "source": []
  },
  {
   "cell_type": "markdown",
   "metadata": {},
   "source": [
    "## Second Dataset"
   ]
  },
  {
   "cell_type": "code",
   "execution_count": null,
   "metadata": {},
   "outputs": [],
   "source": [
    "seconddata = pd.read_csv('final_seconddata.csv')"
   ]
  },
  {
   "cell_type": "code",
   "execution_count": null,
   "metadata": {},
   "outputs": [
    {
     "name": "stderr",
     "output_type": "stream",
     "text": [
      "Processing texts:   0%|          | 1/209 [02:30<8:41:15, 150.36s/it]"
     ]
    },
    {
     "name": "stdout",
     "output_type": "stream",
     "text": [
      "The full name of the organization mentioned in the annual report is:\n",
      "\n",
      "* Openbare Vlaamse Afvalstoffenmaatschappij (OVAM)\n",
      "* Vlaamse Milieumaatschappij (VMM)\n",
      "* Vlaamse Landmaatschappij (VLDM)\n",
      "\n",
      "Note that these are all Dutch government organizations, and their full names translate to:\n",
      "\n",
      "* Public Flemish Waste Management Company (OVAM)\n",
      "* Flemish Environmental Agency (VMM)\n",
      "* Flemish Land Agency (VLDM)\n"
     ]
    },
    {
     "name": "stderr",
     "output_type": "stream",
     "text": [
      "Processing texts:   1%|          | 2/209 [05:24<9:27:51, 164.60s/it]"
     ]
    },
    {
     "name": "stdout",
     "output_type": "stream",
     "text": [
      "The full name of the organization mentioned in the report is:\n",
      "\n",
      "\"Vlaamse Audit Autoriteit (VAA)\" or \"Flemish Auditing Authority\"\n"
     ]
    },
    {
     "name": "stderr",
     "output_type": "stream",
     "text": [
      "Processing texts:   1%|▏         | 3/209 [08:37<10:09:08, 177.42s/it]"
     ]
    },
    {
     "name": "stdout",
     "output_type": "stream",
     "text": [
      "Here are the full names of the organization mentioned in the text:\n",
      "\n",
      "1. Dienst van de Bestuursrechtscolleges (DBRC)\n",
      "2. Raad voor Vergunningsbetwistingen (RVVB)\n",
      "3. Handhavingscollege (HHC)\n",
      "4. Dienst van de Bestuursrechtscolleges en de Erdoor Overkoepelde en Ondersteunde Bestuursrechtscolleges (DBRC-DO)\n",
      "5. Raad voor Betwistingen inzake Studievoortgangsbeslissingen (RSTVB)\n",
      "\n",
      "Note that some of these names are repeated throughout the text, but I have only listed each one once in the above response.\n"
     ]
    },
    {
     "name": "stderr",
     "output_type": "stream",
     "text": [
      "Processing texts:   2%|▏         | 4/209 [10:54<9:11:01, 161.28s/it] "
     ]
    },
    {
     "name": "stdout",
     "output_type": "stream",
     "text": [
      "Based on the provided Dutch annual report, I have identified the full name of the organization:\n",
      "\n",
      "**Sport Vlaanderen**\n",
      "\n",
      "Please note that there are other organizations mentioned in the text, such as \"Vink Creations\" and \"Get Insane\", but **Sport Vlaanderen** is the primary organization being discussed.\n"
     ]
    },
    {
     "name": "stderr",
     "output_type": "stream",
     "text": [
      "Processing texts:   2%|▏         | 5/209 [13:10<8:37:58, 152.34s/it]"
     ]
    },
    {
     "name": "stdout",
     "output_type": "stream",
     "text": [
      "The organization name mentioned in the annual report is:\n",
      "\n",
      "\"literatuur vlaanderen\"\n",
      "\n",
      "(Note: The original language of this text is Dutch.)\n"
     ]
    },
    {
     "name": "stderr",
     "output_type": "stream",
     "text": [
      "Processing texts:   3%|▎         | 6/209 [16:11<9:07:45, 161.90s/it]"
     ]
    },
    {
     "name": "stdout",
     "output_type": "stream",
     "text": [
      "The full name of the organization is:\n",
      "\n",
      "VLAAMS AUDIOVISUEEL FONDS\n"
     ]
    },
    {
     "name": "stderr",
     "output_type": "stream",
     "text": [
      "Processing texts:   3%|▎         | 7/209 [18:29<8:39:33, 154.33s/it]"
     ]
    },
    {
     "name": "stdout",
     "output_type": "stream",
     "text": [
      "The full name of the organization is: VITO (Vlaamse Innovatielab).\n"
     ]
    },
    {
     "name": "stderr",
     "output_type": "stream",
     "text": [
      "Processing texts:   4%|▍         | 8/209 [21:34<9:09:36, 164.06s/it]"
     ]
    },
    {
     "name": "stdout",
     "output_type": "stream",
     "text": [
      "The full name of the organization is:\n",
      "\n",
      "Vlaamse Adviescommissie voor Volksraadplegingen (Flemish Advisory Committee for Local Government)\n",
      "\n",
      "The commissie members are listed as follows:\n",
      "\n",
      "* Dr. Professor Wouter Van Dooren\n",
      "* Mevrouw Karen Deckers, Adjunct to the Director at the Agency for Internal Affairs\n",
      "* Stef Keunen, Adjunct to the Director at the Agency for Internal Affairs\n",
      "* Placeholders:\n",
      "\t+ Sofie Mariën, Dr. Professor at KULeuven\n",
      "\t+ Sofie Hennau, Dr. Professor at UHasselt\n",
      "\t+ Edwin Lefebre, Adjunct to the Director at the Agency for Internal Affairs\n",
      "\t+ Thomas Van Langenhove, Advisor at the Agency for Internal Affairs\n",
      "\n",
      "The Secretary was initially appointed as Mevrouw Kristel Croonen, Head of Department Local Organization and Operations at the Agency for Internal Affairs. However, on 1 December 2022, Ottilia Tothèzan resigned as her placeholder, and Lieven Henckens, Adjunct to the Director at the Agency for Internal Affairs, took over.\n",
      "\n",
      "On 30 March 2023, Dr. Professor Sofie Mariën resigned as a placeholder member, but was not replaced before the end of the legislative term.\n"
     ]
    },
    {
     "name": "stderr",
     "output_type": "stream",
     "text": [
      "Processing texts:   4%|▍         | 9/209 [23:14<7:59:46, 143.93s/it]"
     ]
    },
    {
     "name": "stdout",
     "output_type": "stream",
     "text": [
      "The full name of the organization is:\n",
      "\n",
      "Vlaamse Gemeenschap (Flemish Community)\n"
     ]
    },
    {
     "name": "stderr",
     "output_type": "stream",
     "text": [
      "Processing texts:   5%|▍         | 10/209 [24:03<6:19:52, 114.53s/it]"
     ]
    },
    {
     "name": "stdout",
     "output_type": "stream",
     "text": [
      "The organization name is:\n",
      "\n",
      "\"Plantentuin Meise\"\n"
     ]
    },
    {
     "name": "stderr",
     "output_type": "stream",
     "text": [
      "Processing texts:   5%|▌         | 11/209 [26:04<6:24:55, 116.64s/it]"
     ]
    },
    {
     "name": "stdout",
     "output_type": "stream",
     "text": [
      "The full name of the organization is:\n",
      "\n",
      "\"Toerisme Vlaanderen\"\n"
     ]
    },
    {
     "name": "stderr",
     "output_type": "stream",
     "text": [
      "Processing texts:   6%|▌         | 12/209 [28:13<6:35:08, 120.35s/it]"
     ]
    },
    {
     "name": "stdout",
     "output_type": "stream",
     "text": [
      "The full name of the organization mentioned in the annual report is:\n",
      "\n",
      "\"Agentschap Integratie en Inburgering\"\n",
      "\n",
      "Translated to English, this means \"Agency for Integration and Naturalization\".\n"
     ]
    },
    {
     "name": "stderr",
     "output_type": "stream",
     "text": [
      "Processing texts:   6%|▌         | 13/209 [30:23<6:42:48, 123.31s/it]"
     ]
    },
    {
     "name": "stdout",
     "output_type": "stream",
     "text": [
      "De naam van de organisatie is: Overlegsorgaan voor Milieu- en Natuurbeheer (OVAM).\n"
     ]
    },
    {
     "name": "stderr",
     "output_type": "stream",
     "text": [
      "Processing texts:   7%|▋         | 14/209 [32:02<6:16:39, 115.90s/it]"
     ]
    },
    {
     "name": "stdout",
     "output_type": "stream",
     "text": [
      "De Stichting Commissie van Toezicht voor Jeugdinstellingen.\n"
     ]
    },
    {
     "name": "stderr",
     "output_type": "stream",
     "text": [
      "Processing texts:   7%|▋         | 15/209 [35:07<7:22:37, 136.90s/it]"
     ]
    },
    {
     "name": "stdout",
     "output_type": "stream",
     "text": [
      "The full name of the organization in its original language is:\n",
      "\n",
      "\"inter\"\n"
     ]
    },
    {
     "name": "stderr",
     "output_type": "stream",
     "text": [
      "Processing texts:   8%|▊         | 16/209 [37:59<7:54:09, 147.41s/it]"
     ]
    },
    {
     "name": "stdout",
     "output_type": "stream",
     "text": [
      "The full name of the organization is:\n",
      "\n",
      "\"Departement Zorg\"\n",
      "\n",
      "(Note: The original language is Dutch.)\n"
     ]
    },
    {
     "name": "stderr",
     "output_type": "stream",
     "text": [
      "Processing texts:   8%|▊         | 17/209 [38:51<6:19:41, 118.65s/it]"
     ]
    },
    {
     "name": "stdout",
     "output_type": "stream",
     "text": [
      "The full name of the organization is:\n",
      "\n",
      "\"Vlaamse Ombudsdienst\"\n"
     ]
    },
    {
     "name": "stderr",
     "output_type": "stream",
     "text": [
      "Processing texts:   9%|▊         | 18/209 [40:35<6:03:41, 114.25s/it]"
     ]
    },
    {
     "name": "stdout",
     "output_type": "stream",
     "text": [
      "The full name of the organization is:\n",
      "\n",
      "Vlaams Parlement (Flemish Parliament)\n"
     ]
    },
    {
     "name": "stderr",
     "output_type": "stream",
     "text": [
      "Processing texts:   9%|▉         | 19/209 [43:03<6:33:48, 124.36s/it]"
     ]
    },
    {
     "name": "stdout",
     "output_type": "stream",
     "text": [
      "The full name of the organization mentioned in the report is:\n",
      "\n",
      "Vlaamse Ombudsdienst (Flemish Ombudsman)\n"
     ]
    },
    {
     "name": "stderr",
     "output_type": "stream",
     "text": [
      "Processing texts:  10%|▉         | 20/209 [44:28<5:55:04, 112.72s/it]"
     ]
    },
    {
     "name": "stdout",
     "output_type": "stream",
     "text": [
      "The organization name is:\n",
      "\n",
      "\"Departement financiën en begroting\"\n",
      "\n",
      "In its original language, the full name of the organization is: \"Departement financiën en begroting\".\n"
     ]
    },
    {
     "name": "stderr",
     "output_type": "stream",
     "text": [
      "Processing texts:  10%|█         | 21/209 [47:16<6:44:43, 129.17s/it]"
     ]
    },
    {
     "name": "stdout",
     "output_type": "stream",
     "text": [
      "The full name of the organization is:\n",
      "\n",
      "Vlaams Partnerschap Duale Leren ( Flemish Dual Learning Partnership)\n",
      "\n",
      "And here are some key points to learn from this report:\n",
      "\n",
      "1. The partnership aims to promote a network of quality learning workplaces for all learners.\n",
      "2. The focus on time is important for the sectoral partnerschappen.\n",
      "3. The focus on time is important for the partnershipment.\n",
      "4. The focusplacement is important for the placement.\n",
      "5.\n"
     ]
    },
    {
     "name": "stderr",
     "output_type": "stream",
     "text": [
      "Processing texts:  11%|█         | 22/209 [49:14<6:32:22, 125.89s/it]"
     ]
    },
    {
     "name": "stdout",
     "output_type": "stream",
     "text": [
      "The full name of the organization mentioned in the report is:\n",
      "\n",
      "United Nations University – Center for Regional Integration Studies (UNU-CRIS)\n"
     ]
    },
    {
     "name": "stderr",
     "output_type": "stream",
     "text": [
      "Processing texts:  11%|█         | 23/209 [51:28<6:38:04, 128.41s/it]"
     ]
    },
    {
     "name": "stdout",
     "output_type": "stream",
     "text": [
      "Based on the Dutch annual report, the full name of the organization is:\n",
      "\n",
      "\"Vlaamse Universiteiten en Hogescholen (VLIR)\"\n"
     ]
    },
    {
     "name": "stderr",
     "output_type": "stream",
     "text": [
      "Processing texts:  11%|█▏        | 24/209 [54:16<7:12:09, 140.16s/it]"
     ]
    },
    {
     "name": "stdout",
     "output_type": "stream",
     "text": [
      "The full name of the organization is: \"Agentschap Onderwijs Vlaanderen\" ( Flemish Agency for Education).\n"
     ]
    },
    {
     "name": "stderr",
     "output_type": "stream",
     "text": [
      "Processing texts:  12%|█▏        | 25/209 [56:17<6:52:21, 134.46s/it]"
     ]
    },
    {
     "name": "stdout",
     "output_type": "stream",
     "text": [
      "The organization name is:\n",
      "\n",
      "\"Kinderrechtencommissariaat\"\n"
     ]
    },
    {
     "name": "stderr",
     "output_type": "stream",
     "text": [
      "Processing texts:  12%|█▏        | 26/209 [59:40<7:52:42, 154.99s/it]"
     ]
    },
    {
     "name": "stdout",
     "output_type": "stream",
     "text": [
      "The full name of the organization in its original language is:\n",
      "\n",
      "\" Agentschap voor Hoger Onderwijs, Volwassenen Onderwijs en Beroepsonderwijs\" (Agency for Higher Education, Adult Education and Vocational Training)\n"
     ]
    },
    {
     "name": "stderr",
     "output_type": "stream",
     "text": [
      "Processing texts:  13%|█▎        | 27/209 [1:02:46<8:18:28, 164.33s/it]"
     ]
    },
    {
     "name": "stdout",
     "output_type": "stream",
     "text": [
      "The full name of the organization is \"Pedagogisch Project Groep Onderwijs\" (PPGO).\n"
     ]
    },
    {
     "name": "stderr",
     "output_type": "stream",
     "text": [
      "Processing texts:  13%|█▎        | 28/209 [1:05:53<8:35:40, 170.94s/it]"
     ]
    },
    {
     "name": "stdout",
     "output_type": "stream",
     "text": [
      "The full name of the organization mentioned in the annual report is:\n",
      "\n",
      "\"Agentschap Vlaamse Sociale Bescherming (AVSB)\"\n"
     ]
    },
    {
     "name": "stderr",
     "output_type": "stream",
     "text": [
      "Processing texts:  14%|█▍        | 29/209 [1:09:01<8:48:31, 176.18s/it]"
     ]
    },
    {
     "name": "stdout",
     "output_type": "stream",
     "text": [
      "The full name of the organization is:\n",
      "\n",
      "Vlaams Brussellofficieel Fonds (VBF)\n",
      "\n",
      "And, as you requested, here's the translation for \"de Vlaamse Gemeenschap\" which means:\n",
      "\n",
      "Flemish Community\n",
      "\n",
      "Let me know if you have any further requests!\n"
     ]
    },
    {
     "name": "stderr",
     "output_type": "stream",
     "text": [
      "Processing texts:  14%|█▍        | 30/209 [1:11:19<8:11:44, 164.83s/it]"
     ]
    },
    {
     "name": "stdout",
     "output_type": "stream",
     "text": [
      "The full name of the organization mentioned in the report is:\n",
      "\n",
      "\"Vlaamse Hogeschoolraad\" (Flemish Higher Education Council)\n"
     ]
    },
    {
     "name": "stderr",
     "output_type": "stream",
     "text": [
      "Processing texts:  15%|█▍        | 31/209 [1:14:50<8:49:49, 178.59s/it]"
     ]
    },
    {
     "name": "stdout",
     "output_type": "stream",
     "text": [
      "The full name of the organization is:\n",
      "\n",
      "\"VZW Sociaal Dienst voor het Vlaams Overheidspersoneel\"\n",
      "\n",
      "(Note: VZW stands for \"Vrijwilligers Werkelijke Zakelijkheden\" which translates to \"Non-Profit Organization\".)\n"
     ]
    },
    {
     "name": "stderr",
     "output_type": "stream",
     "text": [
      "Processing texts:  15%|█▌        | 32/209 [1:16:46<7:51:28, 159.82s/it]"
     ]
    },
    {
     "name": "stdout",
     "output_type": "stream",
     "text": [
      "The organization name is:\n",
      "\n",
      "\"Departement Werk & Sociale Economie\"\n"
     ]
    },
    {
     "name": "stderr",
     "output_type": "stream",
     "text": [
      "Processing texts:  16%|█▌        | 33/209 [1:19:22<7:45:09, 158.58s/it]"
     ]
    },
    {
     "name": "stdout",
     "output_type": "stream",
     "text": [
      "The full name of the organization mentioned in the annual report is:\n",
      "\n",
      "**Vlaamse Dienstverlening BeroepsActief (VDAB)**\n",
      "\n",
      "Translation: Flemish Employment and Skills Agency.\n"
     ]
    },
    {
     "name": "stderr",
     "output_type": "stream",
     "text": [
      "Processing texts:  16%|█▋        | 34/209 [1:22:02<7:43:40, 158.98s/it]"
     ]
    },
    {
     "name": "stdout",
     "output_type": "stream",
     "text": [
      "The full name of the organization is:\n",
      "\n",
      "\"Defensie-Controle Strategische Goederen van het Departement Kanselarij & Buitenlandse Zaken\"\n",
      "\n",
      "Translated to English, this becomes:\n",
      "\n",
      "\"Strategic Goods Control Unit of the Department of Chancellery & Foreign Affairs\"\n"
     ]
    },
    {
     "name": "stderr",
     "output_type": "stream",
     "text": [
      "Processing texts:  17%|█▋        | 35/209 [1:24:30<7:31:56, 155.84s/it]"
     ]
    },
    {
     "name": "stdout",
     "output_type": "stream",
     "text": [
      "The full name of the organization is:\n",
      "\n",
      "Waterbouwkundig Laboratorium (WLR)\n",
      "\n",
      "Note: WLR is a Dutch research institution focused on water-related topics.\n"
     ]
    },
    {
     "name": "stderr",
     "output_type": "stream",
     "text": [
      "Processing texts:  17%|█▋        | 36/209 [1:27:57<8:13:12, 171.06s/it]"
     ]
    },
    {
     "name": "stdout",
     "output_type": "stream",
     "text": [
      "The full name of the organization is:\n",
      "\n",
      "\"Departement Landbouw & Visserij Vlaanderen\"\n"
     ]
    },
    {
     "name": "stderr",
     "output_type": "stream",
     "text": [
      "Processing texts:  18%|█▊        | 37/209 [1:30:49<8:11:41, 171.52s/it]"
     ]
    },
    {
     "name": "stdout",
     "output_type": "stream",
     "text": [
      "Based on the Dutch annual report, I have identified the full name of the organization as:\n",
      "\n",
      "\"Federale Overheid van België - Vlaamse Regering\" (Federal Government of Belgium - Flemish Government)\n",
      "\n",
      "Please note that this is the official name in Dutch. The English translation would be \"Federal Government of Belgium - Flemish Government\".\n"
     ]
    },
    {
     "name": "stderr",
     "output_type": "stream",
     "text": [
      "Processing texts:  18%|█▊        | 38/209 [1:32:43<7:19:06, 154.07s/it]"
     ]
    },
    {
     "name": "stdout",
     "output_type": "stream",
     "text": [
      "The full name of the organization mentioned in the Dutch annual report is:\n",
      "\n",
      "\"Vlaamse Regering\" or \"Flemish Government\".\n"
     ]
    },
    {
     "name": "stderr",
     "output_type": "stream",
     "text": [
      "Processing texts:  19%|█▊        | 39/209 [1:34:09<6:18:46, 133.69s/it]"
     ]
    },
    {
     "name": "stdout",
     "output_type": "stream",
     "text": [
      "The organization name is:\n",
      "\n",
      "Staatsdienst voor Openbaar Vervoer (SOV)\n"
     ]
    },
    {
     "name": "stderr",
     "output_type": "stream",
     "text": [
      "Processing texts:  19%|█▉        | 40/209 [1:36:05<6:01:28, 128.33s/it]"
     ]
    },
    {
     "name": "stdout",
     "output_type": "stream",
     "text": [
      "The full name of the organization is:\n",
      "\n",
      "\"Dienst Economische Migratie\"\n"
     ]
    },
    {
     "name": "stderr",
     "output_type": "stream",
     "text": [
      "Processing texts:  20%|█▉        | 41/209 [1:38:58<6:36:47, 141.71s/it]"
     ]
    },
    {
     "name": "stdout",
     "output_type": "stream",
     "text": [
      "The full name of the organization is:\n",
      "\n",
      "Agentschap voor Woon- en Zorginfrastructuurbeleid voor Vlaams-Brabant (VLABINVEST)\n"
     ]
    },
    {
     "name": "stderr",
     "output_type": "stream",
     "text": [
      "Processing texts:  20%|██        | 42/209 [1:42:16<7:21:33, 158.64s/it]"
     ]
    },
    {
     "name": "stdout",
     "output_type": "stream",
     "text": [
      "The full name of the organization is:\n",
      "\n",
      "\"Departement Welzijn, Volksgezondheid en Gezin\"\n",
      "\n",
      "(Note: I only extracted the organization's name from the provided text and did not read or analyze any other information.)\n"
     ]
    },
    {
     "name": "stderr",
     "output_type": "stream",
     "text": [
      "Processing texts:  21%|██        | 43/209 [1:44:27<6:55:57, 150.34s/it]"
     ]
    },
    {
     "name": "stdout",
     "output_type": "stream",
     "text": [
      "The full name of the organization mentioned in the annual report is:\n",
      "\n",
      "\"Agentschap Binnenlands Bestuur, Vlaamse Overheid\"\n",
      "\n",
      "Translated to English, this becomes:\n",
      "\n",
      "\"Flemish Government Agency for Administrative Support\"\n"
     ]
    },
    {
     "name": "stderr",
     "output_type": "stream",
     "text": [
      "Processing texts:  21%|██        | 44/209 [1:47:14<7:07:23, 155.42s/it]"
     ]
    },
    {
     "name": "stdout",
     "output_type": "stream",
     "text": [
      "The full name of the organization is not explicitly mentioned in the report, but it appears to be an energy management organization or a collective of companies involved in energy efficiency and reduction.\n",
      "\n",
      "According to the report, the energieverbruik (energy consumption) in 2014 was not specified. However, the report mentions that the cumulative primary energy saving achieved by the EBO-bedrijven (Energy Business Organizations) from 2015-2018 exceeded the planned amount, resulting in a savings of 21.7 pjp (primary energy units).\n",
      "\n",
      "Please note that the report is written in Dutch, and I have translated the relevant information for you. If you would like me to provide more specific data or clarify any points, please let me know!\n"
     ]
    },
    {
     "name": "stderr",
     "output_type": "stream",
     "text": [
      "Processing texts:  22%|██▏       | 45/209 [1:49:48<7:03:44, 155.03s/it]"
     ]
    },
    {
     "name": "stdout",
     "output_type": "stream",
     "text": [
      "The full name of the organization mentioned in the annual report is:\n",
      "\n",
      "Raad voor beroepenstudievoortgangsbeslissingen (Council for Examination Appeals)\n",
      "\n",
      "The translation of \"bevraging van de raad verder toegenomen\" is: \"Review of the Council's further development\".\n",
      "\n",
      "Please note that I only translated the full name of the organization and the provided phrase, not the entire text.\n"
     ]
    },
    {
     "name": "stderr",
     "output_type": "stream",
     "text": [
      "Processing texts:  22%|██▏       | 46/209 [1:51:58<6:40:23, 147.39s/it]"
     ]
    },
    {
     "name": "stdout",
     "output_type": "stream",
     "text": [
      "The full name of the organization is:\n",
      "\n",
      "\"Departement Financiën en Begroting\"\n",
      "\n",
      "(Note: I did not read or analyze any other information from the annual report, only providing the organization's name)\n"
     ]
    },
    {
     "name": "stderr",
     "output_type": "stream",
     "text": [
      "Processing texts:  22%|██▏       | 47/209 [1:55:11<7:15:16, 161.22s/it]"
     ]
    },
    {
     "name": "stdout",
     "output_type": "stream",
     "text": [
      "The organization name is:\n",
      "\n",
      "\"Staatssecretariaat voor Cultuur, Jeugd en Media\" (in Dutch)\n"
     ]
    },
    {
     "name": "stderr",
     "output_type": "stream",
     "text": [
      "Processing texts:  23%|██▎       | 48/209 [1:57:58<7:16:51, 162.81s/it]"
     ]
    },
    {
     "name": "stdout",
     "output_type": "stream",
     "text": [
      "The organization name is:\n",
      "\n",
      "\"Jeugdhulp\" (in Dutch)\n"
     ]
    },
    {
     "name": "stderr",
     "output_type": "stream",
     "text": [
      "Processing texts:  23%|██▎       | 49/209 [2:00:33<7:08:22, 160.64s/it]"
     ]
    },
    {
     "name": "stdout",
     "output_type": "stream",
     "text": [
      "The full name of the organization is:\n",
      "\n",
      "\"Euclides Commissie Hoger Onderwijs\"\n"
     ]
    },
    {
     "name": "stderr",
     "output_type": "stream",
     "text": [
      "Processing texts:  24%|██▍       | 50/209 [2:03:16<7:07:06, 161.17s/it]"
     ]
    },
    {
     "name": "stdout",
     "output_type": "stream",
     "text": [
      "The full name of the organization is:\n",
      "\n",
      "Centraal Bureau voor de Statistiek (CBS) - Centrum voor Sociaal Beleid (CSB)\n",
      "\n",
      "Translated to English, it means: \"Central Bureau for Statistics\" and \"Centre for Social Policy\".\n"
     ]
    },
    {
     "name": "stderr",
     "output_type": "stream",
     "text": [
      "Processing texts:  24%|██▍       | 51/209 [2:06:12<7:16:05, 165.60s/it]"
     ]
    },
    {
     "name": "stdout",
     "output_type": "stream",
     "text": [
      "The full name of the organization is:\n",
      "\n",
      "\"Programma Voor Plattelandsontwikkeling Vlaanderen 2014-2020 (PDPo II)\"\n"
     ]
    },
    {
     "name": "stderr",
     "output_type": "stream",
     "text": [
      "Processing texts:  25%|██▍       | 52/209 [2:08:47<7:05:01, 162.43s/it]"
     ]
    },
    {
     "name": "stdout",
     "output_type": "stream",
     "text": [
      "The full name of the organization mentioned in the annual report is:\n",
      "\n",
      "\"Hoge Handhavingsraad voor Ruimte en Milieu\" (High Authority for Space and Environment)\n"
     ]
    },
    {
     "name": "stderr",
     "output_type": "stream",
     "text": [
      "Processing texts:  25%|██▌       | 53/209 [2:11:34<7:06:24, 164.00s/it]"
     ]
    },
    {
     "name": "stdout",
     "output_type": "stream",
     "text": [
      "The full name of the organization mentioned in the annual report is:\n",
      "\n",
      "\"Vlaams Hoogereenschikkelen Raad voor Ruimtelijke Ordening en Milieu (VHRM)\"\n"
     ]
    },
    {
     "name": "stderr",
     "output_type": "stream",
     "text": [
      "Processing texts:  26%|██▌       | 54/209 [2:13:43<6:36:03, 153.31s/it]"
     ]
    },
    {
     "name": "stdout",
     "output_type": "stream",
     "text": [
      "The full name of the organization is:\n",
      "\n",
      "\"Vlaamse Landmaatschappij\"\n",
      "\n",
      "Translated to English, this means \"Flemish Land Agency\".\n"
     ]
    },
    {
     "name": "stderr",
     "output_type": "stream",
     "text": [
      "Processing texts:  26%|██▋       | 55/209 [2:16:53<7:02:21, 164.56s/it]"
     ]
    },
    {
     "name": "stdout",
     "output_type": "stream",
     "text": [
      "The full name of the organization is: \"Topstukkenfonds\".\n"
     ]
    }
   ],
   "source": [
    "organization_names = get_organization_name(seconddata, llama_model)\n",
    "\n",
    "for text, org_name in organization_names:\n",
    "    print(f\"Extracted Organization: {org_name}\\n\")"
   ]
  },
  {
   "cell_type": "code",
   "execution_count": null,
   "metadata": {},
   "outputs": [],
   "source": []
  },
  {
   "cell_type": "code",
   "execution_count": null,
   "metadata": {},
   "outputs": [],
   "source": []
  },
  {
   "cell_type": "code",
   "execution_count": null,
   "metadata": {},
   "outputs": [],
   "source": []
  },
  {
   "cell_type": "code",
   "execution_count": null,
   "metadata": {},
   "outputs": [],
   "source": []
  },
  {
   "cell_type": "code",
   "execution_count": null,
   "metadata": {},
   "outputs": [],
   "source": []
  }
 ],
 "metadata": {
  "language_info": {
   "name": "python"
  }
 },
 "nbformat": 4,
 "nbformat_minor": 2
}
