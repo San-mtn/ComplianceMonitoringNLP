{
 "cells": [
  {
   "cell_type": "markdown",
   "metadata": {},
   "source": [
    "# Data Cleaning"
   ]
  },
  {
   "cell_type": "code",
   "execution_count": 1,
   "metadata": {},
   "outputs": [],
   "source": [
    "import pandas as pd\n",
    "import nltk\n",
    "import re"
   ]
  },
  {
   "cell_type": "markdown",
   "metadata": {},
   "source": [
    "## Primary dataset"
   ]
  },
  {
   "cell_type": "markdown",
   "metadata": {},
   "source": [
    "### Import data"
   ]
  },
  {
   "cell_type": "code",
   "execution_count": 7,
   "metadata": {},
   "outputs": [
    {
     "ename": "FileNotFoundError",
     "evalue": "[Errno 2] No such file or directory: 'raw_data'",
     "output_type": "error",
     "traceback": [
      "\u001b[1;31m---------------------------------------------------------------------------\u001b[0m",
      "\u001b[1;31mFileNotFoundError\u001b[0m                         Traceback (most recent call last)",
      "Cell \u001b[1;32mIn[7], line 1\u001b[0m\n\u001b[1;32m----> 1\u001b[0m df \u001b[38;5;241m=\u001b[39m \u001b[43mpd\u001b[49m\u001b[38;5;241;43m.\u001b[39;49m\u001b[43mread_csv\u001b[49m\u001b[43m(\u001b[49m\u001b[38;5;124;43m'\u001b[39;49m\u001b[38;5;124;43mraw_data\u001b[39;49m\u001b[38;5;124;43m'\u001b[39;49m\u001b[43m)\u001b[49m\n\u001b[0;32m      2\u001b[0m df \u001b[38;5;241m=\u001b[39m df[[\u001b[38;5;124m'\u001b[39m\u001b[38;5;124mOrganization Name\u001b[39m\u001b[38;5;124m'\u001b[39m, \u001b[38;5;124m'\u001b[39m\u001b[38;5;124mCleaned Text\u001b[39m\u001b[38;5;124m'\u001b[39m, \u001b[38;5;124m'\u001b[39m\u001b[38;5;124mTrue Organization\u001b[39m\u001b[38;5;124m'\u001b[39m]]\n",
      "File \u001b[1;32m~\\AppData\\Local\\Packages\\PythonSoftwareFoundation.Python.3.11_qbz5n2kfra8p0\\LocalCache\\local-packages\\Python311\\site-packages\\pandas\\io\\parsers\\readers.py:948\u001b[0m, in \u001b[0;36mread_csv\u001b[1;34m(filepath_or_buffer, sep, delimiter, header, names, index_col, usecols, dtype, engine, converters, true_values, false_values, skipinitialspace, skiprows, skipfooter, nrows, na_values, keep_default_na, na_filter, verbose, skip_blank_lines, parse_dates, infer_datetime_format, keep_date_col, date_parser, date_format, dayfirst, cache_dates, iterator, chunksize, compression, thousands, decimal, lineterminator, quotechar, quoting, doublequote, escapechar, comment, encoding, encoding_errors, dialect, on_bad_lines, delim_whitespace, low_memory, memory_map, float_precision, storage_options, dtype_backend)\u001b[0m\n\u001b[0;32m    935\u001b[0m kwds_defaults \u001b[38;5;241m=\u001b[39m _refine_defaults_read(\n\u001b[0;32m    936\u001b[0m     dialect,\n\u001b[0;32m    937\u001b[0m     delimiter,\n\u001b[1;32m   (...)\u001b[0m\n\u001b[0;32m    944\u001b[0m     dtype_backend\u001b[38;5;241m=\u001b[39mdtype_backend,\n\u001b[0;32m    945\u001b[0m )\n\u001b[0;32m    946\u001b[0m kwds\u001b[38;5;241m.\u001b[39mupdate(kwds_defaults)\n\u001b[1;32m--> 948\u001b[0m \u001b[38;5;28;01mreturn\u001b[39;00m \u001b[43m_read\u001b[49m\u001b[43m(\u001b[49m\u001b[43mfilepath_or_buffer\u001b[49m\u001b[43m,\u001b[49m\u001b[43m \u001b[49m\u001b[43mkwds\u001b[49m\u001b[43m)\u001b[49m\n",
      "File \u001b[1;32m~\\AppData\\Local\\Packages\\PythonSoftwareFoundation.Python.3.11_qbz5n2kfra8p0\\LocalCache\\local-packages\\Python311\\site-packages\\pandas\\io\\parsers\\readers.py:611\u001b[0m, in \u001b[0;36m_read\u001b[1;34m(filepath_or_buffer, kwds)\u001b[0m\n\u001b[0;32m    608\u001b[0m _validate_names(kwds\u001b[38;5;241m.\u001b[39mget(\u001b[38;5;124m\"\u001b[39m\u001b[38;5;124mnames\u001b[39m\u001b[38;5;124m\"\u001b[39m, \u001b[38;5;28;01mNone\u001b[39;00m))\n\u001b[0;32m    610\u001b[0m \u001b[38;5;66;03m# Create the parser.\u001b[39;00m\n\u001b[1;32m--> 611\u001b[0m parser \u001b[38;5;241m=\u001b[39m \u001b[43mTextFileReader\u001b[49m\u001b[43m(\u001b[49m\u001b[43mfilepath_or_buffer\u001b[49m\u001b[43m,\u001b[49m\u001b[43m \u001b[49m\u001b[38;5;241;43m*\u001b[39;49m\u001b[38;5;241;43m*\u001b[39;49m\u001b[43mkwds\u001b[49m\u001b[43m)\u001b[49m\n\u001b[0;32m    613\u001b[0m \u001b[38;5;28;01mif\u001b[39;00m chunksize \u001b[38;5;129;01mor\u001b[39;00m iterator:\n\u001b[0;32m    614\u001b[0m     \u001b[38;5;28;01mreturn\u001b[39;00m parser\n",
      "File \u001b[1;32m~\\AppData\\Local\\Packages\\PythonSoftwareFoundation.Python.3.11_qbz5n2kfra8p0\\LocalCache\\local-packages\\Python311\\site-packages\\pandas\\io\\parsers\\readers.py:1448\u001b[0m, in \u001b[0;36mTextFileReader.__init__\u001b[1;34m(self, f, engine, **kwds)\u001b[0m\n\u001b[0;32m   1445\u001b[0m     \u001b[38;5;28mself\u001b[39m\u001b[38;5;241m.\u001b[39moptions[\u001b[38;5;124m\"\u001b[39m\u001b[38;5;124mhas_index_names\u001b[39m\u001b[38;5;124m\"\u001b[39m] \u001b[38;5;241m=\u001b[39m kwds[\u001b[38;5;124m\"\u001b[39m\u001b[38;5;124mhas_index_names\u001b[39m\u001b[38;5;124m\"\u001b[39m]\n\u001b[0;32m   1447\u001b[0m \u001b[38;5;28mself\u001b[39m\u001b[38;5;241m.\u001b[39mhandles: IOHandles \u001b[38;5;241m|\u001b[39m \u001b[38;5;28;01mNone\u001b[39;00m \u001b[38;5;241m=\u001b[39m \u001b[38;5;28;01mNone\u001b[39;00m\n\u001b[1;32m-> 1448\u001b[0m \u001b[38;5;28mself\u001b[39m\u001b[38;5;241m.\u001b[39m_engine \u001b[38;5;241m=\u001b[39m \u001b[38;5;28;43mself\u001b[39;49m\u001b[38;5;241;43m.\u001b[39;49m\u001b[43m_make_engine\u001b[49m\u001b[43m(\u001b[49m\u001b[43mf\u001b[49m\u001b[43m,\u001b[49m\u001b[43m \u001b[49m\u001b[38;5;28;43mself\u001b[39;49m\u001b[38;5;241;43m.\u001b[39;49m\u001b[43mengine\u001b[49m\u001b[43m)\u001b[49m\n",
      "File \u001b[1;32m~\\AppData\\Local\\Packages\\PythonSoftwareFoundation.Python.3.11_qbz5n2kfra8p0\\LocalCache\\local-packages\\Python311\\site-packages\\pandas\\io\\parsers\\readers.py:1705\u001b[0m, in \u001b[0;36mTextFileReader._make_engine\u001b[1;34m(self, f, engine)\u001b[0m\n\u001b[0;32m   1703\u001b[0m     \u001b[38;5;28;01mif\u001b[39;00m \u001b[38;5;124m\"\u001b[39m\u001b[38;5;124mb\u001b[39m\u001b[38;5;124m\"\u001b[39m \u001b[38;5;129;01mnot\u001b[39;00m \u001b[38;5;129;01min\u001b[39;00m mode:\n\u001b[0;32m   1704\u001b[0m         mode \u001b[38;5;241m+\u001b[39m\u001b[38;5;241m=\u001b[39m \u001b[38;5;124m\"\u001b[39m\u001b[38;5;124mb\u001b[39m\u001b[38;5;124m\"\u001b[39m\n\u001b[1;32m-> 1705\u001b[0m \u001b[38;5;28mself\u001b[39m\u001b[38;5;241m.\u001b[39mhandles \u001b[38;5;241m=\u001b[39m \u001b[43mget_handle\u001b[49m\u001b[43m(\u001b[49m\n\u001b[0;32m   1706\u001b[0m \u001b[43m    \u001b[49m\u001b[43mf\u001b[49m\u001b[43m,\u001b[49m\n\u001b[0;32m   1707\u001b[0m \u001b[43m    \u001b[49m\u001b[43mmode\u001b[49m\u001b[43m,\u001b[49m\n\u001b[0;32m   1708\u001b[0m \u001b[43m    \u001b[49m\u001b[43mencoding\u001b[49m\u001b[38;5;241;43m=\u001b[39;49m\u001b[38;5;28;43mself\u001b[39;49m\u001b[38;5;241;43m.\u001b[39;49m\u001b[43moptions\u001b[49m\u001b[38;5;241;43m.\u001b[39;49m\u001b[43mget\u001b[49m\u001b[43m(\u001b[49m\u001b[38;5;124;43m\"\u001b[39;49m\u001b[38;5;124;43mencoding\u001b[39;49m\u001b[38;5;124;43m\"\u001b[39;49m\u001b[43m,\u001b[49m\u001b[43m \u001b[49m\u001b[38;5;28;43;01mNone\u001b[39;49;00m\u001b[43m)\u001b[49m\u001b[43m,\u001b[49m\n\u001b[0;32m   1709\u001b[0m \u001b[43m    \u001b[49m\u001b[43mcompression\u001b[49m\u001b[38;5;241;43m=\u001b[39;49m\u001b[38;5;28;43mself\u001b[39;49m\u001b[38;5;241;43m.\u001b[39;49m\u001b[43moptions\u001b[49m\u001b[38;5;241;43m.\u001b[39;49m\u001b[43mget\u001b[49m\u001b[43m(\u001b[49m\u001b[38;5;124;43m\"\u001b[39;49m\u001b[38;5;124;43mcompression\u001b[39;49m\u001b[38;5;124;43m\"\u001b[39;49m\u001b[43m,\u001b[49m\u001b[43m \u001b[49m\u001b[38;5;28;43;01mNone\u001b[39;49;00m\u001b[43m)\u001b[49m\u001b[43m,\u001b[49m\n\u001b[0;32m   1710\u001b[0m \u001b[43m    \u001b[49m\u001b[43mmemory_map\u001b[49m\u001b[38;5;241;43m=\u001b[39;49m\u001b[38;5;28;43mself\u001b[39;49m\u001b[38;5;241;43m.\u001b[39;49m\u001b[43moptions\u001b[49m\u001b[38;5;241;43m.\u001b[39;49m\u001b[43mget\u001b[49m\u001b[43m(\u001b[49m\u001b[38;5;124;43m\"\u001b[39;49m\u001b[38;5;124;43mmemory_map\u001b[39;49m\u001b[38;5;124;43m\"\u001b[39;49m\u001b[43m,\u001b[49m\u001b[43m \u001b[49m\u001b[38;5;28;43;01mFalse\u001b[39;49;00m\u001b[43m)\u001b[49m\u001b[43m,\u001b[49m\n\u001b[0;32m   1711\u001b[0m \u001b[43m    \u001b[49m\u001b[43mis_text\u001b[49m\u001b[38;5;241;43m=\u001b[39;49m\u001b[43mis_text\u001b[49m\u001b[43m,\u001b[49m\n\u001b[0;32m   1712\u001b[0m \u001b[43m    \u001b[49m\u001b[43merrors\u001b[49m\u001b[38;5;241;43m=\u001b[39;49m\u001b[38;5;28;43mself\u001b[39;49m\u001b[38;5;241;43m.\u001b[39;49m\u001b[43moptions\u001b[49m\u001b[38;5;241;43m.\u001b[39;49m\u001b[43mget\u001b[49m\u001b[43m(\u001b[49m\u001b[38;5;124;43m\"\u001b[39;49m\u001b[38;5;124;43mencoding_errors\u001b[39;49m\u001b[38;5;124;43m\"\u001b[39;49m\u001b[43m,\u001b[49m\u001b[43m \u001b[49m\u001b[38;5;124;43m\"\u001b[39;49m\u001b[38;5;124;43mstrict\u001b[39;49m\u001b[38;5;124;43m\"\u001b[39;49m\u001b[43m)\u001b[49m\u001b[43m,\u001b[49m\n\u001b[0;32m   1713\u001b[0m \u001b[43m    \u001b[49m\u001b[43mstorage_options\u001b[49m\u001b[38;5;241;43m=\u001b[39;49m\u001b[38;5;28;43mself\u001b[39;49m\u001b[38;5;241;43m.\u001b[39;49m\u001b[43moptions\u001b[49m\u001b[38;5;241;43m.\u001b[39;49m\u001b[43mget\u001b[49m\u001b[43m(\u001b[49m\u001b[38;5;124;43m\"\u001b[39;49m\u001b[38;5;124;43mstorage_options\u001b[39;49m\u001b[38;5;124;43m\"\u001b[39;49m\u001b[43m,\u001b[49m\u001b[43m \u001b[49m\u001b[38;5;28;43;01mNone\u001b[39;49;00m\u001b[43m)\u001b[49m\u001b[43m,\u001b[49m\n\u001b[0;32m   1714\u001b[0m \u001b[43m\u001b[49m\u001b[43m)\u001b[49m\n\u001b[0;32m   1715\u001b[0m \u001b[38;5;28;01massert\u001b[39;00m \u001b[38;5;28mself\u001b[39m\u001b[38;5;241m.\u001b[39mhandles \u001b[38;5;129;01mis\u001b[39;00m \u001b[38;5;129;01mnot\u001b[39;00m \u001b[38;5;28;01mNone\u001b[39;00m\n\u001b[0;32m   1716\u001b[0m f \u001b[38;5;241m=\u001b[39m \u001b[38;5;28mself\u001b[39m\u001b[38;5;241m.\u001b[39mhandles\u001b[38;5;241m.\u001b[39mhandle\n",
      "File \u001b[1;32m~\\AppData\\Local\\Packages\\PythonSoftwareFoundation.Python.3.11_qbz5n2kfra8p0\\LocalCache\\local-packages\\Python311\\site-packages\\pandas\\io\\common.py:863\u001b[0m, in \u001b[0;36mget_handle\u001b[1;34m(path_or_buf, mode, encoding, compression, memory_map, is_text, errors, storage_options)\u001b[0m\n\u001b[0;32m    858\u001b[0m \u001b[38;5;28;01melif\u001b[39;00m \u001b[38;5;28misinstance\u001b[39m(handle, \u001b[38;5;28mstr\u001b[39m):\n\u001b[0;32m    859\u001b[0m     \u001b[38;5;66;03m# Check whether the filename is to be opened in binary mode.\u001b[39;00m\n\u001b[0;32m    860\u001b[0m     \u001b[38;5;66;03m# Binary mode does not support 'encoding' and 'newline'.\u001b[39;00m\n\u001b[0;32m    861\u001b[0m     \u001b[38;5;28;01mif\u001b[39;00m ioargs\u001b[38;5;241m.\u001b[39mencoding \u001b[38;5;129;01mand\u001b[39;00m \u001b[38;5;124m\"\u001b[39m\u001b[38;5;124mb\u001b[39m\u001b[38;5;124m\"\u001b[39m \u001b[38;5;129;01mnot\u001b[39;00m \u001b[38;5;129;01min\u001b[39;00m ioargs\u001b[38;5;241m.\u001b[39mmode:\n\u001b[0;32m    862\u001b[0m         \u001b[38;5;66;03m# Encoding\u001b[39;00m\n\u001b[1;32m--> 863\u001b[0m         handle \u001b[38;5;241m=\u001b[39m \u001b[38;5;28;43mopen\u001b[39;49m\u001b[43m(\u001b[49m\n\u001b[0;32m    864\u001b[0m \u001b[43m            \u001b[49m\u001b[43mhandle\u001b[49m\u001b[43m,\u001b[49m\n\u001b[0;32m    865\u001b[0m \u001b[43m            \u001b[49m\u001b[43mioargs\u001b[49m\u001b[38;5;241;43m.\u001b[39;49m\u001b[43mmode\u001b[49m\u001b[43m,\u001b[49m\n\u001b[0;32m    866\u001b[0m \u001b[43m            \u001b[49m\u001b[43mencoding\u001b[49m\u001b[38;5;241;43m=\u001b[39;49m\u001b[43mioargs\u001b[49m\u001b[38;5;241;43m.\u001b[39;49m\u001b[43mencoding\u001b[49m\u001b[43m,\u001b[49m\n\u001b[0;32m    867\u001b[0m \u001b[43m            \u001b[49m\u001b[43merrors\u001b[49m\u001b[38;5;241;43m=\u001b[39;49m\u001b[43merrors\u001b[49m\u001b[43m,\u001b[49m\n\u001b[0;32m    868\u001b[0m \u001b[43m            \u001b[49m\u001b[43mnewline\u001b[49m\u001b[38;5;241;43m=\u001b[39;49m\u001b[38;5;124;43m\"\u001b[39;49m\u001b[38;5;124;43m\"\u001b[39;49m\u001b[43m,\u001b[49m\n\u001b[0;32m    869\u001b[0m \u001b[43m        \u001b[49m\u001b[43m)\u001b[49m\n\u001b[0;32m    870\u001b[0m     \u001b[38;5;28;01melse\u001b[39;00m:\n\u001b[0;32m    871\u001b[0m         \u001b[38;5;66;03m# Binary mode\u001b[39;00m\n\u001b[0;32m    872\u001b[0m         handle \u001b[38;5;241m=\u001b[39m \u001b[38;5;28mopen\u001b[39m(handle, ioargs\u001b[38;5;241m.\u001b[39mmode)\n",
      "\u001b[1;31mFileNotFoundError\u001b[0m: [Errno 2] No such file or directory: 'raw_data'"
     ]
    }
   ],
   "source": [
    "df = pd.read_csv('raw_data')\n",
    "df = df[['Organization Name', 'Cleaned Text', 'True Organization']]"
   ]
  },
  {
   "cell_type": "code",
   "execution_count": null,
   "metadata": {},
   "outputs": [],
   "source": [
    "df['Text'] = df['Text'].str.lower()\n",
    "df['True Organization'] = df['True Organization'].str.lower()\n",
    "\n",
    "df = df.dropna(subset=['True Organization'])\n",
    "df = df.dropna(subset=['Text'])"
   ]
  },
  {
   "cell_type": "markdown",
   "metadata": {},
   "source": [
    "### Clean data"
   ]
  },
  {
   "cell_type": "code",
   "execution_count": 6,
   "metadata": {},
   "outputs": [
    {
     "ename": "NameError",
     "evalue": "name 'df' is not defined",
     "output_type": "error",
     "traceback": [
      "\u001b[1;31m---------------------------------------------------------------------------\u001b[0m",
      "\u001b[1;31mNameError\u001b[0m                                 Traceback (most recent call last)",
      "Cell \u001b[1;32mIn[6], line 23\u001b[0m\n\u001b[0;32m     20\u001b[0m     tokens \u001b[38;5;241m=\u001b[39m nltk\u001b[38;5;241m.\u001b[39mword_tokenize(text)\n\u001b[0;32m     21\u001b[0m     \u001b[38;5;28;01mreturn\u001b[39;00m \u001b[38;5;124m\"\u001b[39m\u001b[38;5;124m \u001b[39m\u001b[38;5;124m\"\u001b[39m\u001b[38;5;241m.\u001b[39mjoin(tokens)\n\u001b[1;32m---> 23\u001b[0m df[\u001b[38;5;124m'\u001b[39m\u001b[38;5;124mCleaned Text\u001b[39m\u001b[38;5;124m'\u001b[39m] \u001b[38;5;241m=\u001b[39m \u001b[43mdf\u001b[49m[\u001b[38;5;124m'\u001b[39m\u001b[38;5;124mText\u001b[39m\u001b[38;5;124m'\u001b[39m]\u001b[38;5;241m.\u001b[39mapply(clean_text)\n\u001b[0;32m     25\u001b[0m comparison \u001b[38;5;241m=\u001b[39m df[[\u001b[38;5;124m'\u001b[39m\u001b[38;5;124mText\u001b[39m\u001b[38;5;124m'\u001b[39m, \u001b[38;5;124m'\u001b[39m\u001b[38;5;124mCleaned Text\u001b[39m\u001b[38;5;124m'\u001b[39m]]\u001b[38;5;241m.\u001b[39mhead(\u001b[38;5;241m1\u001b[39m) \n\u001b[0;32m     26\u001b[0m \u001b[38;5;66;03m# print(comparison)\u001b[39;00m\n",
      "\u001b[1;31mNameError\u001b[0m: name 'df' is not defined"
     ]
    }
   ],
   "source": [
    "def remove_whitespaces(text):\n",
    "    '''Removes repetitive patterns'''\n",
    "    cleaned_text = re.sub(r'(\\s)\\1+', r'\\1', text)  # remove repeated whitespace characters\n",
    "    return cleaned_text.strip() \n",
    "\n",
    "def control_char_repetition(text, max_repeat=3):\n",
    "    \"\"\"Limits character or combination repetition to a maximum count\"\"\"\n",
    "    text = re.sub(rf\"(.)\\1{{{max_repeat},}}\", r\"\\1\" * max_repeat, text)  # replace repeated chars with max_repeat occurrences\n",
    "\n",
    "    # replace repeated sequences of words\n",
    "    text = re.sub(rf\"(\\b\\w+\\b)(\\s+\\1){{{max_repeat},}}\", (r\"\\1 \" * max_repeat).strip(), text)  # limit repeated words\n",
    "    text = re.sub(rf\"(\\b\\S{{2,}}\\b)(\\s+\\1){{{max_repeat},}}\", (r\"\\1 \" * max_repeat).strip(), text)  # limit repeated character sequences\n",
    "    return text\n",
    "\n",
    "def clean_text(text):\n",
    "    '''Cleans text by lowering, removing extra whitespace, controlling repetitions, and tokenizing'''\n",
    "    text = text.lower()\n",
    "    text = remove_whitespaces(text)\n",
    "    text = control_char_repetition(text, max_repeat = 2)\n",
    "    tokens = nltk.word_tokenize(text)\n",
    "    return \" \".join(tokens)\n",
    "\n",
    "df['Cleaned Text'] = df['Text'].apply(clean_text)\n",
    "\n",
    "comparison = df[['Text', 'Cleaned Text']].head(1) \n",
    "# print(comparison)\n",
    "\n",
    "formatted_data = df[['Cleaned Text']].values.tolist()\n",
    "\n",
    "for example in formatted_data[:5]:\n",
    "    print(example[0])"
   ]
  },
  {
   "cell_type": "markdown",
   "metadata": {},
   "source": [
    "### Save as cleaned csv"
   ]
  },
  {
   "cell_type": "code",
   "execution_count": null,
   "metadata": {},
   "outputs": [],
   "source": [
    "df.to_csv('final_data.csv')"
   ]
  },
  {
   "cell_type": "markdown",
   "metadata": {},
   "source": [
    "## Second dataset"
   ]
  },
  {
   "cell_type": "markdown",
   "metadata": {},
   "source": [
    "### Import data"
   ]
  },
  {
   "cell_type": "code",
   "execution_count": 3,
   "metadata": {},
   "outputs": [],
   "source": [
    "seconddata = pd.read_csv('raw_seconddata.csv')"
   ]
  },
  {
   "cell_type": "code",
   "execution_count": 4,
   "metadata": {},
   "outputs": [],
   "source": [
    "seconddata['Text'] = seconddata['Text'].str.lower()\n",
    "seconddata['Organisation Name'] = seconddata['Organisation Name'].str.lower()\n",
    "\n",
    "seconddata = seconddata.dropna(subset=['Organisation Name'])\n",
    "seconddata = seconddata.dropna(subset=['Text'])\n",
    "\n",
    "seconddata = seconddata.rename(columns={'Organisation Name': 'True Organization'})\n",
    "\n",
    "seconddata['True Organization'] = seconddata.apply(\n",
    "    lambda row: row['Afkorting Uitgebreid'] if pd.notnull(row['Afkorting Uitgebreid']) else row['True Organization'],\n",
    "    axis=1\n",
    ")\n",
    "\n",
    "seconddata = seconddata[['Text', 'True Organization']]"
   ]
  },
  {
   "cell_type": "markdown",
   "metadata": {},
   "source": [
    "### Clean data"
   ]
  },
  {
   "cell_type": "code",
   "execution_count": 8,
   "metadata": {},
   "outputs": [
    {
     "name": "stdout",
     "output_type": "stream",
     "text": [
      "omgevingvlaanderen.bejaarverslag 2023 minafonds 30/06/2024 depotnummer : d/2024/3241/231 v.u . toon denys , secretaris-generaal , koning albert ii-laan 15 bus 548 , 1210 brussel // // pagina 2 van 78 jaarverslag 2023 minafonds 15.06.2024 inhoud 1 begroting 2023 4 1.1 initieel goedgekeurde begroting 2023 4 1.2 aangepaste begroting 2023 4 1.3 herschikte begroting 2023 4 2 vorderingen 9 2.1 gerealiseerde vorderingen in 2023 9 2.2 openbare vlaamse afvalstoffenmaatschappij ( ovam ) 10 2.2.1 begrotingsartikel qbx -2qceaja -ow : ontvangsten werking en toelagen - dematerialiseren en het sluiten van materiaalkringlopen .. .. .. .. .. .. .. 10 2.3 vlaamse milieumaatschappij ( vmm ) 11 2.3.1 begrotingsartikel qbx -2qceada -ow : ontvangsten werking en toelagen - plannen maken en actief op het terrein uitvoeren met engagementen voor een gezond en duurzaam watersysteem .. .. .. 11 2.4 vlaamse landmaatschappij ( vlm ) 11 2.4.1 begrotingsartikel qbx -2qceadb -ow : ontvangsten werking en toelagen - de nutriëntenverliezen vanuit de land - en tuinbouw naar het oppervlakte - en grondwater verder verminderen .. .. .. .. 11 2.5 agentschap voor natuur en bos 12 2.5.1 begrotingsartikel qdx -2qceafa -ow : ontvangsten werking en toelagen - we maken natuur en natuurbeleving tot een verbindend element in de samenleving , via een netto toename aan natuur en bos met hoge kwaliteit , een passend beheer en bescherming van natuur en een doeltreffend soortenbeleid - en beheer .. .. .. 12 2.5.2 begrotingsartikel qdx -2qceafa -op : ontvangsten participaties - we maken natuur en natuurbeleving tot een verbindend element in de samenleving , via een netto toename aan natuur en bos met hoge kwaliteit , een passend beheer en bescherming van natuur en een do eltreffend soortenbeleid - en beheer .. .. .. 13 2.6 nv vlaamse milieuholding 13 2.6.1 begrotingsartikel qbx -2qceaoa -ow : ontvangsten werking en toelagen - naar een samenhangend omgevingsinstrumentarium .. .. .. .. .. .. .. 13 2.7 departement omgeving 14 2.7.1 begrotingsartikel qbx -2qceaoa -ow : ontvangsten werking en toelagen - naar een samenhangend omgevingsinstrumentarium .. .. .. .. .. .. .. 14 2.8 dab minafonds 14 2.8.1 begrotingsartikel qbx -2qceazz -og : overgedragen overschot vorige boekjaren .. .. .. 14 2.8.2 begrotingsartikel qbx -2qceazz -oi : ontvangsten interne stromen .. .. .. .. 15 3 vastleggingen en ordonnanceringen in 2023 16 3.1 overzicht gerealiseerde vastleggingen en ordonnanceringen 16 3.2 openbare afvalstoffenmaatschappij ( ovam ) 18 3.2.1 begrotingsartikel qbx -3qce2ja -wt : werking en toelagen - dematerialiseren en het sluiten van materiaalkringlopen 18 3.2.2 begrotingsartikel qbx -3qce2ea -wt : werking en toelagen - een onderbouwd bodembeleid via herstel van bodemdiensten en bodemzorg en via het verstandig benutten van de ondergrond .. .. .. 20 3.2.3 begrotingsartikel qbx -3qce2ev -is : interne stromen - openbare vlaamse afvalmaatschappij ( ovam ) .. .. 22 3.3 vlaamse milieumaatschappij 33 3.3.1 begrotingsartikel qbx -3qce2da -wt : werking en toelagen - plannen maken en actief op het terrein uitvoeren met engagementen voor een gezond en duurzaam watersysteem .. .. .. .. 33 3.3.2 begrotingsartikel qbx -3qce2dw -is : interne stromen - vlaamse milieumaatschappij ( vmm ) .. .. 39 3.3.3 begrotingsartikel qbx -3qce2dc -wt : werking en toelagen - zorgen voor een sluitende financiering van het waterbeleid - overdracht aan de openbare waterdistributienetwerken .. .. .. .. . 40 3.4 vlaamse landmaatschappij ( vlm ) 41 // // 15.06.2024 jaarverslag 202 3 minafonds pagina 3 van 78 3.4.1 begrotingsartikel qbx -3qce2db -wt : werking en toelagen - de nutriëntenverliezen vanuit de land - en tuinbouw naar het oppervlakte - en grondwater verder verminderen .. .. .. .. .. 41 3.4.2 begrotingsartikel qbx -3qce2ga -wt : werking en toelagen - een specifiek plattelandsbeleid voor plattelandsuitdagingen .. .. .. .. .. .. .. 42 3.4.3 begrotingsartikel qbx -3qce2nj -wt : werking en toelagen - zorgen voor een robuuste open ruimte .. .. 43 3.4.4 begrotingsartikel qbx -3qce2nr -is : interne stromen - vlaamse landmaatschappij ( vlm ) – gebruikersschade en kapitaalschade .. .. .. .. .. .. .. .. 45 3.4.5 begrotingsartikel qbx -3qce2dy -is : interne stromen - vlaamse landmaatschappij ( vlm ) .. .. 46 3.4.6 begrotingsartikel qbx -3qce2fy -is : interne stromen - vlaamse landmaatschappij ( vlm ) .. .. . 47 3.4.7 begrotingsartikel qbx -3qce2ny -is : interne stromen - vlaamse landmaatschappij ( vlm ) .. .. 49 3.4.8 begrotingsartikel qbx -3qce2gy -is : interne stromen - vlaamse landmaatschappij ( vlm ) .. .. . 51 3.5 departement omgeving 52 3.5.1 begrotingsartikel qbx -3qce2oa -wt : werking en toelagen - naar een samenhangend omgevingsinstrumentarium .. 52 3.5.2 begrotingsartikel qbx -3qce2ob -wt : werking en toelagen - een doelgerichte deelname aan het internationaal en europees beleid .. .. .. .. .. .. .. 53 3.5.3 begrotingsartikel qbx -3qce2oc -wt : werking en toelagen - een omgevingsbeleid voor en met betrokkenheid van burger en maatschappij , met het oog op het verhogen van het maatschappelijk draagvlak .. .. 55 3.5.4 begrotingsartikel qbx -3qce2na -wt : werking en toelagen - via bijkomende inspanningen bronnen van hinder aanpakken .. .. .. .. .. .. .. .. 59 3.5.5 begrotingsartikel qbx -3qce2nj -wt : werking en toelagen - zorgen voor een robuuste open ruimte .. .. 60 3.5.6 begrotingsartikel qbx -3qce2ha -wt : werking en toelagen – we gaan voor zuivere lucht en onderbouwen ( lokaal ) luchtbeleid via innovatieve miliemonitoring .. .. .. .. .. . 60 3.5.7 begrotingsartikel qbx -3qce2dq -is : interne stromen – eigen vermogen informatie vlaanderen ( ev iv ) .. . 61 3.6 minafonds 62 3.6.1 begrotingsartikel qbx -3qce2zz -is : .. .. .. .. .. .. 62 3.6.2 begrotingsartikel qbx -3qce2zz -ov : over te dragen overschot van het boekjaar .. .. .. 63 3.7 agentschap natuur en bos ( anb ) 63 3.7.1 begrotingsartikel qdx -3qce2fa -wt : werking en toelagen - we maken natuur en natuurbeleving tot een verbindend element in de samenleving , via een netto toename aan natuur en bos met hoge kwaliteit , een passend beheer en bescherming van natuur en een doeltref fend soortenbeleid - en beheer .. .. .. .. 63 3.7.2 begrotingsartikel qdx -3qce2fa -pa : participaties - we maken natuur en natuurbeleving tot een verbindend element in de samenleving , via een netto toename aan natuur en bos met hoge kwaliteit , een passend beheer en bescherming van natuur en een doeltreffend soortenbeleid - en beheer .. .. .. .. .. 74 3.7.3 begrotingsartikel qdx -3qce2da -wt : plannen maken en actief op het terrein uitvoeren met engagementen voor een gezond en duurzaam watersysteem .. .. .. .. .. .. 75 4 encours 77 // // pagina 4 van 78 jaarverslag 2023 minafonds 15.06.2024 1 begroting 20 23 1.1 initieel goedgekeurde begroting 20 23 bij decreet van 16 december 20 22 werd de initiële begroting 20 23 goedgekeurd . het verleende vastleggingskrediet ( vak ) bedroeg 665.172.00,00 euro en het verleende vereffeningskrediet ( vek ) 821.691.00 ,00 euro ( incl . overgedragen saldo ) . d e ingeschreven ontvangsten ( incl . overgedragen saldo ) werden geraamd op 821.691.00 ,00 euro en de dotatie van de vlaamse gemeenschap aan het minafonds werd vastgelegd 412.790.00 ,00 op euro . 1.2 aangepaste begroting 20 23 de initieel goedgekeurde begroting 20 23 werd door het decreet van 30 juni 2023 aangepast . na de begrotingsaanpassing bedroeg het vak 682.856.00 ,00 euro . ten opzichte van het initieel verleende vastleggingskrediet was dit een stijging van 17.684.00 ,00 euro . het vek bedroeg na de begrotings - aanpa ssing 885.155.00 ,00 euro ( incl . overgedragen saldo ) . dat is een stijging van 63.464.00,00 euro . na deze begrotingsaanpassing werden de ingeschreven ontvangsten verhoogd tot 885.155.00,00 euro ( incl . overgedragen saldo ) . ten opzichte van de initieel ingeschreven ontvangsten is dit een vermeerdering van 63.464.00,00 euro . de dotatie van de vlaamse gemeenschap aan het minafonds werd na deze begrotings - aanpassing bepaald op 410.121.00,00 euro . ten opzichte van de initieel toegekende dotatie was dit een daling van 2.669.00,00 euro . 1.3 herschikte begroting 20 23 tabel 1 : initiële en aangepaste begroting 20 23 : vorderingen ( in euro ) ba omschrijving initieel aangepast * openbare vlaamse afvalstoffenmaatschappij ( ovam ) qbx-2qceaja-ow ontvangsten werking en toelagen - afval en materialen - dematerialiseren en het sluiten van materiaalkringlopen 68.154.00,00 68.154.00,00 vlaamse milieumaatschappij ( vmm ) qbx-2qceada-ow ontvangsten werking en toelagen - water - plannen maken en actief op het terrein uitvoeren met engagementen voor een gezond en duurzaam watersysteem 65.234.00,00 65.234.00,00 vlaamse landmaatschappij ( vlm )\n"
     ]
    }
   ],
   "source": [
    "seconddata['Cleaned Text'] = seconddata['Text'].apply(clean_text)\n",
    "\n",
    "comparison = seconddata[['Text', 'Cleaned Text']].head(1) \n",
    "# print(comparison)\n",
    "\n",
    "formatted_data = comparison[['Cleaned Text']].values.tolist()\n",
    "\n",
    "for example in formatted_data[:5]:\n",
    "    print(example[0])\n"
   ]
  },
  {
   "cell_type": "code",
   "execution_count": 9,
   "metadata": {},
   "outputs": [],
   "source": [
    "# filter out texts without organization name in it\n",
    "def is_org_in_text(row):\n",
    "    text = row['Text']\n",
    "    org_name = row['True Organization']\n",
    "    escaped_org_name = re.escape(org_name)\n",
    "    pattern = rf\"\\b{escaped_org_name}\\b\"\n",
    "    \n",
    "    if re.search(pattern, text):\n",
    "        return True\n",
    "    return False\n",
    "\n",
    "seconddata['Contains_Org'] = seconddata.apply(is_org_in_text, axis=1)\n",
    "filtered_seconddata = seconddata[seconddata['Contains_Org'] == True].drop(columns=['Contains_Org'])"
   ]
  },
  {
   "cell_type": "markdown",
   "metadata": {},
   "source": [
    "### Save as cleaned csv"
   ]
  },
  {
   "cell_type": "code",
   "execution_count": 10,
   "metadata": {},
   "outputs": [],
   "source": [
    "filtered_seconddata.to_csv('final_seconddata.csv')"
   ]
  }
 ],
 "metadata": {
  "kernelspec": {
   "display_name": "Python 3",
   "language": "python",
   "name": "python3"
  },
  "language_info": {
   "codemirror_mode": {
    "name": "ipython",
    "version": 3
   },
   "file_extension": ".py",
   "mimetype": "text/x-python",
   "name": "python",
   "nbconvert_exporter": "python",
   "pygments_lexer": "ipython3",
   "version": "3.11.9"
  }
 },
 "nbformat": 4,
 "nbformat_minor": 2
}
