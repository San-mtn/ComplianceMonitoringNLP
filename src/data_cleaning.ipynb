{
 "cells": [
  {
   "cell_type": "markdown",
   "metadata": {},
   "source": [
    "# Data Cleaning"
   ]
  },
  {
   "cell_type": "code",
   "execution_count": null,
   "metadata": {},
   "outputs": [],
   "source": [
    "import pandas as pd\n",
    "import nltk\n",
    "import re"
   ]
  },
  {
   "cell_type": "markdown",
   "metadata": {},
   "source": [
    "## Primary dataset"
   ]
  },
  {
   "cell_type": "markdown",
   "metadata": {},
   "source": [
    "### Import data"
   ]
  },
  {
   "cell_type": "code",
   "execution_count": null,
   "metadata": {},
   "outputs": [],
   "source": [
    "df = pd.read_csv('raw_data')\n",
    "df = df[['Organization Name', 'Cleaned Text', 'True Organization']]"
   ]
  },
  {
   "cell_type": "code",
   "execution_count": null,
   "metadata": {},
   "outputs": [],
   "source": [
    "df['Text'] = df['Text'].str.lower()\n",
    "df['True Organization'] = df['True Organization'].str.lower()\n",
    "\n",
    "df = df.dropna(subset=['True Organization'])\n",
    "df = df.dropna(subset=['Text'])"
   ]
  },
  {
   "cell_type": "markdown",
   "metadata": {},
   "source": [
    "### Clean data"
   ]
  },
  {
   "cell_type": "code",
   "execution_count": null,
   "metadata": {},
   "outputs": [],
   "source": [
    "def remove_whitespaces(text):\n",
    "    '''Removes repetitive patterns'''\n",
    "    cleaned_text = re.sub(r'(\\s)\\1+', r'\\1', text)  # remove repeated whitespace characters\n",
    "    return cleaned_text.strip() \n",
    "\n",
    "def control_char_repetition(text, max_repeat=3):\n",
    "    \"\"\"Limits character or combination repetition to a maximum count\"\"\"\n",
    "    text = re.sub(rf\"(.)\\1{{{max_repeat},}}\", r\"\\1\" * max_repeat, text)  # replace repeated chars with max_repeat occurrences\n",
    "\n",
    "    # replace repeated sequences of words\n",
    "    text = re.sub(rf\"(\\b\\w+\\b)(\\s+\\1){{{max_repeat},}}\", (r\"\\1 \" * max_repeat).strip(), text)  # limit repeated words\n",
    "    text = re.sub(rf\"(\\b\\S{{2,}}\\b)(\\s+\\1){{{max_repeat},}}\", (r\"\\1 \" * max_repeat).strip(), text)  # limit repeated character sequences\n",
    "    return text\n",
    "\n",
    "def clean_text(text):\n",
    "    '''Cleans text by lowering, removing extra whitespace, controlling repetitions, and tokenizing'''\n",
    "    text = text.lower()\n",
    "    text = remove_whitespaces(text)\n",
    "    text = control_char_repetition(text, max_repeat = 2)\n",
    "    tokens = nltk.word_tokenize(text)\n",
    "    return \" \".join(tokens)\n",
    "\n",
    "df['Cleaned Text'] = df['Text'].apply(clean_text)\n",
    "\n",
    "comparison = df[['Text', 'Cleaned Text']].head(1) \n",
    "# print(comparison)\n",
    "\n",
    "formatted_data = df[['Cleaned Text']].values.tolist()\n",
    "\n",
    "for example in formatted_data[:5]:\n",
    "    print(example[0])"
   ]
  },
  {
   "cell_type": "markdown",
   "metadata": {},
   "source": [
    "### Save as cleaned csv"
   ]
  },
  {
   "cell_type": "code",
   "execution_count": null,
   "metadata": {},
   "outputs": [],
   "source": [
    "df.to_csv('final_data.csv')"
   ]
  },
  {
   "cell_type": "markdown",
   "metadata": {},
   "source": [
    "## Second dataset"
   ]
  },
  {
   "cell_type": "markdown",
   "metadata": {},
   "source": [
    "### Import data"
   ]
  },
  {
   "cell_type": "code",
   "execution_count": null,
   "metadata": {},
   "outputs": [],
   "source": [
    "seconddata = pd.read_csv('raw_seconddata.csv')"
   ]
  },
  {
   "cell_type": "code",
   "execution_count": null,
   "metadata": {},
   "outputs": [],
   "source": [
    "seconddata['Text'] = seconddata['Text'].str.lower()\n",
    "seconddata['Organisation Name'] = seconddata['Organisation Name'].str.lower()\n",
    "\n",
    "seconddata = seconddata.dropna(subset=['Organisation Name'])\n",
    "seconddata = seconddata.dropna(subset=['Text'])\n",
    "\n",
    "seconddata = seconddata.rename(columns={'Organisation Name': 'True Organization'})\n",
    "\n",
    "seconddata['True Organization'] = seconddata.apply(\n",
    "    lambda row: row['Afkorting Uitgebreid'] if pd.notnull(row['Afkorting Uitgebreid']) else row['True Organization'],\n",
    "    axis=1\n",
    ")\n",
    "\n",
    "seconddata = seconddata[['Text', 'True Organization']]"
   ]
  },
  {
   "cell_type": "markdown",
   "metadata": {},
   "source": [
    "### Clean data"
   ]
  },
  {
   "cell_type": "code",
   "execution_count": null,
   "metadata": {},
   "outputs": [],
   "source": [
    "seconddata['Cleaned Text'] = seconddata['Text'].apply(clean_text)\n",
    "\n",
    "comparison = seconddata[['Text', 'Cleaned Text']].head(1) \n",
    "# print(comparison)\n",
    "\n",
    "formatted_data = comparison[['Cleaned Text']].values.tolist()\n",
    "\n",
    "for example in formatted_data[:5]:\n",
    "    print(example[0])\n"
   ]
  },
  {
   "cell_type": "code",
   "execution_count": null,
   "metadata": {},
   "outputs": [],
   "source": [
    "# filter out texts without organization name in it\n",
    "def is_org_in_text(row):\n",
    "    text = row['Text']\n",
    "    org_name = row['True Organization']\n",
    "    escaped_org_name = re.escape(org_name)\n",
    "    pattern = rf\"\\b{escaped_org_name}\\b\"\n",
    "    \n",
    "    if re.search(pattern, text):\n",
    "        return True\n",
    "    return False\n",
    "\n",
    "seconddata['Contains_Org'] = seconddata.apply(is_org_in_text, axis=1)\n",
    "filtered_seconddata = seconddata[seconddata['Contains_Org'] == True].drop(columns=['Contains_Org'])"
   ]
  },
  {
   "cell_type": "markdown",
   "metadata": {},
   "source": [
    "### Save as cleaned csv"
   ]
  },
  {
   "cell_type": "code",
   "execution_count": null,
   "metadata": {},
   "outputs": [],
   "source": [
    "filtered_seconddata.to_csv('final_seconddata.csv')"
   ]
  }
 ],
 "metadata": {
  "language_info": {
   "name": "python"
  }
 },
 "nbformat": 4,
 "nbformat_minor": 2
}
